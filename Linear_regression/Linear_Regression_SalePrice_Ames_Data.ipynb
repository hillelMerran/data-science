{
  "cells": [
    {
      "cell_type": "markdown",
      "metadata": {
        "id": "view-in-github",
        "colab_type": "text"
      },
      "source": [
        "<a href=\"https://colab.research.google.com/github/hillelMerran/data-science/blob/main/Linear_regression/Linear_Regression_SalePrice_Ames_Data.ipynb\" target=\"_parent\"><img src=\"https://colab.research.google.com/assets/colab-badge.svg\" alt=\"Open In Colab\"/></a>"
      ]
    },
    {
      "cell_type": "markdown",
      "metadata": {
        "id": "MWNXYcFlDLZW"
      },
      "source": [
        "# Linear regression project"
      ]
    },
    {
      "cell_type": "markdown",
      "metadata": {
        "id": "XcdQMo24DLZX"
      },
      "source": [
        "Little project using linear regression models in order to predict the price of habitations in the city of Ames.\n",
        "\n",
        "The project is based on a database previously cleaned."
      ]
    },
    {
      "cell_type": "code",
      "execution_count": 30,
      "metadata": {
        "id": "W63b7DpVDLZX"
      },
      "outputs": [],
      "source": [
        "import numpy as np\n",
        "import pandas as pd"
      ]
    },
    {
      "cell_type": "markdown",
      "metadata": {
        "id": "bcrSApw-DLZY"
      },
      "source": [
        "### Import data"
      ]
    },
    {
      "cell_type": "code",
      "execution_count": 31,
      "metadata": {
        "id": "18hwMh2QDLZY"
      },
      "outputs": [],
      "source": [
        "url = 'https://raw.githubusercontent.com/hillelMerran/data-science/main/Linear_regression/Ames_Final_Df.csv'\n",
        "df = pd.read_csv(url)"
      ]
    },
    {
      "cell_type": "code",
      "execution_count": 32,
      "metadata": {
        "id": "zdabsrRkDLZZ",
        "outputId": "bee872db-7690-46cd-f6d1-4edd498657ca",
        "colab": {
          "base_uri": "https://localhost:8080/",
          "height": 334
        }
      },
      "outputs": [
        {
          "output_type": "execute_result",
          "data": {
            "text/plain": [
              "   Lot Frontage  Lot Area  Overall Qual  Overall Cond  Year Built  \\\n",
              "0         141.0     31770             6             5        1960   \n",
              "1          80.0     11622             5             6        1961   \n",
              "2          81.0     14267             6             6        1958   \n",
              "3          93.0     11160             7             5        1968   \n",
              "4          74.0     13830             5             5        1997   \n",
              "\n",
              "   Year Remod/Add  Mas Vnr Area  BsmtFin SF 1  BsmtFin SF 2  Bsmt Unf SF  ...  \\\n",
              "0            1960         112.0         639.0           0.0        441.0  ...   \n",
              "1            1961           0.0         468.0         144.0        270.0  ...   \n",
              "2            1958         108.0         923.0           0.0        406.0  ...   \n",
              "3            1968           0.0        1065.0           0.0       1045.0  ...   \n",
              "4            1998           0.0         791.0           0.0        137.0  ...   \n",
              "\n",
              "   Sale Type_ConLw  Sale Type_New  Sale Type_Oth  Sale Type_VWD  \\\n",
              "0                0              0              0              0   \n",
              "1                0              0              0              0   \n",
              "2                0              0              0              0   \n",
              "3                0              0              0              0   \n",
              "4                0              0              0              0   \n",
              "\n",
              "   Sale Type_WD   Sale Condition_AdjLand  Sale Condition_Alloca  \\\n",
              "0              1                       0                      0   \n",
              "1              1                       0                      0   \n",
              "2              1                       0                      0   \n",
              "3              1                       0                      0   \n",
              "4              1                       0                      0   \n",
              "\n",
              "   Sale Condition_Family  Sale Condition_Normal  Sale Condition_Partial  \n",
              "0                      0                      1                       0  \n",
              "1                      0                      1                       0  \n",
              "2                      0                      1                       0  \n",
              "3                      0                      1                       0  \n",
              "4                      0                      1                       0  \n",
              "\n",
              "[5 rows x 280 columns]"
            ],
            "text/html": [
              "\n",
              "  <div id=\"df-f02286cd-2be0-408a-aff5-758a648f59d2\">\n",
              "    <div class=\"colab-df-container\">\n",
              "      <div>\n",
              "<style scoped>\n",
              "    .dataframe tbody tr th:only-of-type {\n",
              "        vertical-align: middle;\n",
              "    }\n",
              "\n",
              "    .dataframe tbody tr th {\n",
              "        vertical-align: top;\n",
              "    }\n",
              "\n",
              "    .dataframe thead th {\n",
              "        text-align: right;\n",
              "    }\n",
              "</style>\n",
              "<table border=\"1\" class=\"dataframe\">\n",
              "  <thead>\n",
              "    <tr style=\"text-align: right;\">\n",
              "      <th></th>\n",
              "      <th>Lot Frontage</th>\n",
              "      <th>Lot Area</th>\n",
              "      <th>Overall Qual</th>\n",
              "      <th>Overall Cond</th>\n",
              "      <th>Year Built</th>\n",
              "      <th>Year Remod/Add</th>\n",
              "      <th>Mas Vnr Area</th>\n",
              "      <th>BsmtFin SF 1</th>\n",
              "      <th>BsmtFin SF 2</th>\n",
              "      <th>Bsmt Unf SF</th>\n",
              "      <th>...</th>\n",
              "      <th>Sale Type_ConLw</th>\n",
              "      <th>Sale Type_New</th>\n",
              "      <th>Sale Type_Oth</th>\n",
              "      <th>Sale Type_VWD</th>\n",
              "      <th>Sale Type_WD</th>\n",
              "      <th>Sale Condition_AdjLand</th>\n",
              "      <th>Sale Condition_Alloca</th>\n",
              "      <th>Sale Condition_Family</th>\n",
              "      <th>Sale Condition_Normal</th>\n",
              "      <th>Sale Condition_Partial</th>\n",
              "    </tr>\n",
              "  </thead>\n",
              "  <tbody>\n",
              "    <tr>\n",
              "      <th>0</th>\n",
              "      <td>141.0</td>\n",
              "      <td>31770</td>\n",
              "      <td>6</td>\n",
              "      <td>5</td>\n",
              "      <td>1960</td>\n",
              "      <td>1960</td>\n",
              "      <td>112.0</td>\n",
              "      <td>639.0</td>\n",
              "      <td>0.0</td>\n",
              "      <td>441.0</td>\n",
              "      <td>...</td>\n",
              "      <td>0</td>\n",
              "      <td>0</td>\n",
              "      <td>0</td>\n",
              "      <td>0</td>\n",
              "      <td>1</td>\n",
              "      <td>0</td>\n",
              "      <td>0</td>\n",
              "      <td>0</td>\n",
              "      <td>1</td>\n",
              "      <td>0</td>\n",
              "    </tr>\n",
              "    <tr>\n",
              "      <th>1</th>\n",
              "      <td>80.0</td>\n",
              "      <td>11622</td>\n",
              "      <td>5</td>\n",
              "      <td>6</td>\n",
              "      <td>1961</td>\n",
              "      <td>1961</td>\n",
              "      <td>0.0</td>\n",
              "      <td>468.0</td>\n",
              "      <td>144.0</td>\n",
              "      <td>270.0</td>\n",
              "      <td>...</td>\n",
              "      <td>0</td>\n",
              "      <td>0</td>\n",
              "      <td>0</td>\n",
              "      <td>0</td>\n",
              "      <td>1</td>\n",
              "      <td>0</td>\n",
              "      <td>0</td>\n",
              "      <td>0</td>\n",
              "      <td>1</td>\n",
              "      <td>0</td>\n",
              "    </tr>\n",
              "    <tr>\n",
              "      <th>2</th>\n",
              "      <td>81.0</td>\n",
              "      <td>14267</td>\n",
              "      <td>6</td>\n",
              "      <td>6</td>\n",
              "      <td>1958</td>\n",
              "      <td>1958</td>\n",
              "      <td>108.0</td>\n",
              "      <td>923.0</td>\n",
              "      <td>0.0</td>\n",
              "      <td>406.0</td>\n",
              "      <td>...</td>\n",
              "      <td>0</td>\n",
              "      <td>0</td>\n",
              "      <td>0</td>\n",
              "      <td>0</td>\n",
              "      <td>1</td>\n",
              "      <td>0</td>\n",
              "      <td>0</td>\n",
              "      <td>0</td>\n",
              "      <td>1</td>\n",
              "      <td>0</td>\n",
              "    </tr>\n",
              "    <tr>\n",
              "      <th>3</th>\n",
              "      <td>93.0</td>\n",
              "      <td>11160</td>\n",
              "      <td>7</td>\n",
              "      <td>5</td>\n",
              "      <td>1968</td>\n",
              "      <td>1968</td>\n",
              "      <td>0.0</td>\n",
              "      <td>1065.0</td>\n",
              "      <td>0.0</td>\n",
              "      <td>1045.0</td>\n",
              "      <td>...</td>\n",
              "      <td>0</td>\n",
              "      <td>0</td>\n",
              "      <td>0</td>\n",
              "      <td>0</td>\n",
              "      <td>1</td>\n",
              "      <td>0</td>\n",
              "      <td>0</td>\n",
              "      <td>0</td>\n",
              "      <td>1</td>\n",
              "      <td>0</td>\n",
              "    </tr>\n",
              "    <tr>\n",
              "      <th>4</th>\n",
              "      <td>74.0</td>\n",
              "      <td>13830</td>\n",
              "      <td>5</td>\n",
              "      <td>5</td>\n",
              "      <td>1997</td>\n",
              "      <td>1998</td>\n",
              "      <td>0.0</td>\n",
              "      <td>791.0</td>\n",
              "      <td>0.0</td>\n",
              "      <td>137.0</td>\n",
              "      <td>...</td>\n",
              "      <td>0</td>\n",
              "      <td>0</td>\n",
              "      <td>0</td>\n",
              "      <td>0</td>\n",
              "      <td>1</td>\n",
              "      <td>0</td>\n",
              "      <td>0</td>\n",
              "      <td>0</td>\n",
              "      <td>1</td>\n",
              "      <td>0</td>\n",
              "    </tr>\n",
              "  </tbody>\n",
              "</table>\n",
              "<p>5 rows × 280 columns</p>\n",
              "</div>\n",
              "      <button class=\"colab-df-convert\" onclick=\"convertToInteractive('df-f02286cd-2be0-408a-aff5-758a648f59d2')\"\n",
              "              title=\"Convert this dataframe to an interactive table.\"\n",
              "              style=\"display:none;\">\n",
              "        \n",
              "  <svg xmlns=\"http://www.w3.org/2000/svg\" height=\"24px\"viewBox=\"0 0 24 24\"\n",
              "       width=\"24px\">\n",
              "    <path d=\"M0 0h24v24H0V0z\" fill=\"none\"/>\n",
              "    <path d=\"M18.56 5.44l.94 2.06.94-2.06 2.06-.94-2.06-.94-.94-2.06-.94 2.06-2.06.94zm-11 1L8.5 8.5l.94-2.06 2.06-.94-2.06-.94L8.5 2.5l-.94 2.06-2.06.94zm10 10l.94 2.06.94-2.06 2.06-.94-2.06-.94-.94-2.06-.94 2.06-2.06.94z\"/><path d=\"M17.41 7.96l-1.37-1.37c-.4-.4-.92-.59-1.43-.59-.52 0-1.04.2-1.43.59L10.3 9.45l-7.72 7.72c-.78.78-.78 2.05 0 2.83L4 21.41c.39.39.9.59 1.41.59.51 0 1.02-.2 1.41-.59l7.78-7.78 2.81-2.81c.8-.78.8-2.07 0-2.86zM5.41 20L4 18.59l7.72-7.72 1.47 1.35L5.41 20z\"/>\n",
              "  </svg>\n",
              "      </button>\n",
              "      \n",
              "  <style>\n",
              "    .colab-df-container {\n",
              "      display:flex;\n",
              "      flex-wrap:wrap;\n",
              "      gap: 12px;\n",
              "    }\n",
              "\n",
              "    .colab-df-convert {\n",
              "      background-color: #E8F0FE;\n",
              "      border: none;\n",
              "      border-radius: 50%;\n",
              "      cursor: pointer;\n",
              "      display: none;\n",
              "      fill: #1967D2;\n",
              "      height: 32px;\n",
              "      padding: 0 0 0 0;\n",
              "      width: 32px;\n",
              "    }\n",
              "\n",
              "    .colab-df-convert:hover {\n",
              "      background-color: #E2EBFA;\n",
              "      box-shadow: 0px 1px 2px rgba(60, 64, 67, 0.3), 0px 1px 3px 1px rgba(60, 64, 67, 0.15);\n",
              "      fill: #174EA6;\n",
              "    }\n",
              "\n",
              "    [theme=dark] .colab-df-convert {\n",
              "      background-color: #3B4455;\n",
              "      fill: #D2E3FC;\n",
              "    }\n",
              "\n",
              "    [theme=dark] .colab-df-convert:hover {\n",
              "      background-color: #434B5C;\n",
              "      box-shadow: 0px 1px 3px 1px rgba(0, 0, 0, 0.15);\n",
              "      filter: drop-shadow(0px 1px 2px rgba(0, 0, 0, 0.3));\n",
              "      fill: #FFFFFF;\n",
              "    }\n",
              "  </style>\n",
              "\n",
              "      <script>\n",
              "        const buttonEl =\n",
              "          document.querySelector('#df-f02286cd-2be0-408a-aff5-758a648f59d2 button.colab-df-convert');\n",
              "        buttonEl.style.display =\n",
              "          google.colab.kernel.accessAllowed ? 'block' : 'none';\n",
              "\n",
              "        async function convertToInteractive(key) {\n",
              "          const element = document.querySelector('#df-f02286cd-2be0-408a-aff5-758a648f59d2');\n",
              "          const dataTable =\n",
              "            await google.colab.kernel.invokeFunction('convertToInteractive',\n",
              "                                                     [key], {});\n",
              "          if (!dataTable) return;\n",
              "\n",
              "          const docLinkHtml = 'Like what you see? Visit the ' +\n",
              "            '<a target=\"_blank\" href=https://colab.research.google.com/notebooks/data_table.ipynb>data table notebook</a>'\n",
              "            + ' to learn more about interactive tables.';\n",
              "          element.innerHTML = '';\n",
              "          dataTable['output_type'] = 'display_data';\n",
              "          await google.colab.output.renderOutput(dataTable, element);\n",
              "          const docLink = document.createElement('div');\n",
              "          docLink.innerHTML = docLinkHtml;\n",
              "          element.appendChild(docLink);\n",
              "        }\n",
              "      </script>\n",
              "    </div>\n",
              "  </div>\n",
              "  "
            ]
          },
          "metadata": {},
          "execution_count": 32
        }
      ],
      "source": [
        "df.head()"
      ]
    },
    {
      "cell_type": "code",
      "execution_count": 33,
      "metadata": {
        "id": "1PuEc6sKDLZZ",
        "outputId": "fe8aea45-0f2f-4f6d-bc69-b34af4586998",
        "colab": {
          "base_uri": "https://localhost:8080/"
        }
      },
      "outputs": [
        {
          "output_type": "stream",
          "name": "stdout",
          "text": [
            "<class 'pandas.core.frame.DataFrame'>\n",
            "RangeIndex: 2918 entries, 0 to 2917\n",
            "Columns: 280 entries, Lot Frontage to Sale Condition_Partial\n",
            "dtypes: float64(11), int64(269)\n",
            "memory usage: 6.2 MB\n"
          ]
        }
      ],
      "source": [
        "df.info()"
      ]
    },
    {
      "cell_type": "markdown",
      "metadata": {
        "id": "cqYYswspDLZa"
      },
      "source": [
        "### Defining features X and label y\n",
        "The label is the **'SalePrice'** column. Split the data into features and label."
      ]
    },
    {
      "cell_type": "code",
      "execution_count": 34,
      "metadata": {
        "id": "jACKqsXKDLZa"
      },
      "outputs": [],
      "source": [
        "X = df.drop('SalePrice', axis=1)\n",
        "y = df['SalePrice']"
      ]
    },
    {
      "cell_type": "markdown",
      "metadata": {
        "id": "3zy-22UbDLZa"
      },
      "source": [
        "### Split data into train and test sets"
      ]
    },
    {
      "cell_type": "code",
      "execution_count": 35,
      "metadata": {
        "id": "ux-McY6ADLZb"
      },
      "outputs": [],
      "source": [
        "from sklearn.model_selection import train_test_split"
      ]
    },
    {
      "cell_type": "code",
      "execution_count": 36,
      "metadata": {
        "id": "bJV2OKU-DLZb"
      },
      "outputs": [],
      "source": [
        "X_train, X_test, y_train, y_test = train_test_split(X, y, test_size=0.1, random_state=101)"
      ]
    },
    {
      "cell_type": "markdown",
      "metadata": {
        "id": "aMACnR9cDLZb"
      },
      "source": [
        "### Scaling the features\n",
        "Scaling to standard distribution to improve perfomances of the model."
      ]
    },
    {
      "cell_type": "code",
      "execution_count": 37,
      "metadata": {
        "id": "ehx7bfMqDLZb"
      },
      "outputs": [],
      "source": [
        "from sklearn.preprocessing import StandardScaler"
      ]
    },
    {
      "cell_type": "code",
      "execution_count": 38,
      "metadata": {
        "id": "G5WpJCX5DLZc",
        "colab": {
          "base_uri": "https://localhost:8080/"
        },
        "outputId": "c5f3dc89-d659-4d66-a98d-4aa5c02e5266"
      },
      "outputs": [
        {
          "output_type": "execute_result",
          "data": {
            "text/plain": [
              "StandardScaler()"
            ]
          },
          "metadata": {},
          "execution_count": 38
        }
      ],
      "source": [
        "scaler = StandardScaler()\n",
        "scaler.fit(X_train)"
      ]
    },
    {
      "cell_type": "code",
      "execution_count": 39,
      "metadata": {
        "id": "oL1kBavjDLZc"
      },
      "outputs": [],
      "source": [
        "X_train = scaler.transform(X_train)\n",
        "X_test = scaler.transform(X_test)"
      ]
    },
    {
      "cell_type": "markdown",
      "metadata": {
        "id": "SEV1B_gnDLZc"
      },
      "source": [
        "### Creation of the model\n",
        "Use of ElasticNet linear model."
      ]
    },
    {
      "cell_type": "code",
      "execution_count": 40,
      "metadata": {
        "id": "yoeKpVr9DLZc"
      },
      "outputs": [],
      "source": [
        "from sklearn.linear_model import ElasticNet"
      ]
    },
    {
      "cell_type": "code",
      "execution_count": 41,
      "metadata": {
        "id": "TBVxmV1EDLZc"
      },
      "outputs": [],
      "source": [
        "model = ElasticNet(max_iter=1000)"
      ]
    },
    {
      "cell_type": "markdown",
      "metadata": {
        "id": "PawRyUqGDLZc"
      },
      "source": [
        "Defining a grid search for the hyper parameters."
      ]
    },
    {
      "cell_type": "code",
      "execution_count": 42,
      "metadata": {
        "id": "x67ex9YeDLZd"
      },
      "outputs": [],
      "source": [
        "param_grid = {'alpha': [.1, 1, 10, 100, 1000],\n",
        "              'l1_ratio': [.1, .5, .9, 1]}"
      ]
    },
    {
      "cell_type": "code",
      "execution_count": 43,
      "metadata": {
        "id": "uGgojW8-DLZd"
      },
      "outputs": [],
      "source": [
        "from sklearn.model_selection import GridSearchCV"
      ]
    },
    {
      "cell_type": "code",
      "execution_count": 44,
      "metadata": {
        "id": "NMMvHGIjDLZd"
      },
      "outputs": [],
      "source": [
        "grid_model = GridSearchCV(model, param_grid,scoring=\"neg_root_mean_squared_error\",cv=5,verbose=2.1)"
      ]
    },
    {
      "cell_type": "markdown",
      "source": [
        "### Training the model"
      ],
      "metadata": {
        "id": "5icpYDXE08Lb"
      }
    },
    {
      "cell_type": "code",
      "execution_count": 45,
      "metadata": {
        "id": "0X_Ooko6DLZe",
        "outputId": "b08720ac-c679-49a4-e2af-7171db6fed0b",
        "colab": {
          "base_uri": "https://localhost:8080/"
        }
      },
      "outputs": [
        {
          "output_type": "stream",
          "name": "stdout",
          "text": [
            "Fitting 5 folds for each of 20 candidates, totalling 100 fits\n",
            "[CV 1/5] END ......alpha=0.1, l1_ratio=0.1;, score=-25230.446 total time=   0.1s\n",
            "[CV 2/5] END ......alpha=0.1, l1_ratio=0.1;, score=-20143.870 total time=   0.1s\n",
            "[CV 3/5] END ......alpha=0.1, l1_ratio=0.1;, score=-27852.777 total time=   0.1s\n",
            "[CV 4/5] END ......alpha=0.1, l1_ratio=0.1;, score=-22239.062 total time=   0.1s\n",
            "[CV 5/5] END ......alpha=0.1, l1_ratio=0.1;, score=-22779.025 total time=   0.1s\n",
            "[CV 1/5] END ......alpha=0.1, l1_ratio=0.5;, score=-25439.076 total time=   0.2s\n",
            "[CV 2/5] END ......alpha=0.1, l1_ratio=0.5;, score=-20351.553 total time=   0.2s\n",
            "[CV 3/5] END ......alpha=0.1, l1_ratio=0.5;, score=-27467.891 total time=   0.1s\n",
            "[CV 4/5] END ......alpha=0.1, l1_ratio=0.5;, score=-22114.999 total time=   0.1s\n",
            "[CV 5/5] END ......alpha=0.1, l1_ratio=0.5;, score=-22759.791 total time=   0.1s\n"
          ]
        },
        {
          "output_type": "stream",
          "name": "stderr",
          "text": [
            "/usr/local/lib/python3.7/dist-packages/sklearn/linear_model/_coordinate_descent.py:648: ConvergenceWarning: Objective did not converge. You might want to increase the number of iterations, check the scale of the features or consider increasing regularisation. Duality gap: 1.290e+10, tolerance: 1.348e+09\n",
            "  coef_, l1_reg, l2_reg, X, y, max_iter, tol, rng, random, positive\n"
          ]
        },
        {
          "output_type": "stream",
          "name": "stdout",
          "text": [
            "[CV 1/5] END ......alpha=0.1, l1_ratio=0.9;, score=-26146.028 total time=   0.4s\n",
            "[CV 2/5] END ......alpha=0.1, l1_ratio=0.9;, score=-20889.184 total time=   0.4s\n"
          ]
        },
        {
          "output_type": "stream",
          "name": "stderr",
          "text": [
            "/usr/local/lib/python3.7/dist-packages/sklearn/linear_model/_coordinate_descent.py:648: ConvergenceWarning: Objective did not converge. You might want to increase the number of iterations, check the scale of the features or consider increasing regularisation. Duality gap: 2.178e+09, tolerance: 1.280e+09\n",
            "  coef_, l1_reg, l2_reg, X, y, max_iter, tol, rng, random, positive\n"
          ]
        },
        {
          "output_type": "stream",
          "name": "stdout",
          "text": [
            "[CV 3/5] END ......alpha=0.1, l1_ratio=0.9;, score=-27164.548 total time=   0.7s\n"
          ]
        },
        {
          "output_type": "stream",
          "name": "stderr",
          "text": [
            "/usr/local/lib/python3.7/dist-packages/sklearn/linear_model/_coordinate_descent.py:648: ConvergenceWarning: Objective did not converge. You might want to increase the number of iterations, check the scale of the features or consider increasing regularisation. Duality gap: 9.720e+09, tolerance: 1.375e+09\n",
            "  coef_, l1_reg, l2_reg, X, y, max_iter, tol, rng, random, positive\n"
          ]
        },
        {
          "output_type": "stream",
          "name": "stdout",
          "text": [
            "[CV 4/5] END ......alpha=0.1, l1_ratio=0.9;, score=-22129.933 total time=   0.6s\n"
          ]
        },
        {
          "output_type": "stream",
          "name": "stderr",
          "text": [
            "/usr/local/lib/python3.7/dist-packages/sklearn/linear_model/_coordinate_descent.py:648: ConvergenceWarning: Objective did not converge. You might want to increase the number of iterations, check the scale of the features or consider increasing regularisation. Duality gap: 4.528e+09, tolerance: 1.371e+09\n",
            "  coef_, l1_reg, l2_reg, X, y, max_iter, tol, rng, random, positive\n"
          ]
        },
        {
          "output_type": "stream",
          "name": "stdout",
          "text": [
            "[CV 5/5] END ......alpha=0.1, l1_ratio=0.9;, score=-22830.166 total time=   0.7s\n"
          ]
        },
        {
          "output_type": "stream",
          "name": "stderr",
          "text": [
            "/usr/local/lib/python3.7/dist-packages/sklearn/linear_model/_coordinate_descent.py:648: ConvergenceWarning: Objective did not converge. You might want to increase the number of iterations, check the scale of the features or consider increasing regularisation. Duality gap: 3.068e+11, tolerance: 1.348e+09\n",
            "  coef_, l1_reg, l2_reg, X, y, max_iter, tol, rng, random, positive\n"
          ]
        },
        {
          "output_type": "stream",
          "name": "stdout",
          "text": [
            "[CV 1/5] END ........alpha=0.1, l1_ratio=1;, score=-26677.062 total time=   0.3s\n"
          ]
        },
        {
          "output_type": "stream",
          "name": "stderr",
          "text": [
            "/usr/local/lib/python3.7/dist-packages/sklearn/linear_model/_coordinate_descent.py:648: ConvergenceWarning: Objective did not converge. You might want to increase the number of iterations, check the scale of the features or consider increasing regularisation. Duality gap: 3.499e+11, tolerance: 1.377e+09\n",
            "  coef_, l1_reg, l2_reg, X, y, max_iter, tol, rng, random, positive\n"
          ]
        },
        {
          "output_type": "stream",
          "name": "stdout",
          "text": [
            "[CV 2/5] END ........alpha=0.1, l1_ratio=1;, score=-21254.169 total time=   0.3s\n"
          ]
        },
        {
          "output_type": "stream",
          "name": "stderr",
          "text": [
            "/usr/local/lib/python3.7/dist-packages/sklearn/linear_model/_coordinate_descent.py:648: ConvergenceWarning: Objective did not converge. You might want to increase the number of iterations, check the scale of the features or consider increasing regularisation. Duality gap: 3.320e+11, tolerance: 1.280e+09\n",
            "  coef_, l1_reg, l2_reg, X, y, max_iter, tol, rng, random, positive\n"
          ]
        },
        {
          "output_type": "stream",
          "name": "stdout",
          "text": [
            "[CV 3/5] END ........alpha=0.1, l1_ratio=1;, score=-27295.673 total time=   0.3s\n"
          ]
        },
        {
          "output_type": "stream",
          "name": "stderr",
          "text": [
            "/usr/local/lib/python3.7/dist-packages/sklearn/linear_model/_coordinate_descent.py:648: ConvergenceWarning: Objective did not converge. You might want to increase the number of iterations, check the scale of the features or consider increasing regularisation. Duality gap: 3.572e+11, tolerance: 1.375e+09\n",
            "  coef_, l1_reg, l2_reg, X, y, max_iter, tol, rng, random, positive\n"
          ]
        },
        {
          "output_type": "stream",
          "name": "stdout",
          "text": [
            "[CV 4/5] END ........alpha=0.1, l1_ratio=1;, score=-22319.201 total time=   0.3s\n"
          ]
        },
        {
          "output_type": "stream",
          "name": "stderr",
          "text": [
            "/usr/local/lib/python3.7/dist-packages/sklearn/linear_model/_coordinate_descent.py:648: ConvergenceWarning: Objective did not converge. You might want to increase the number of iterations, check the scale of the features or consider increasing regularisation. Duality gap: 3.460e+11, tolerance: 1.371e+09\n",
            "  coef_, l1_reg, l2_reg, X, y, max_iter, tol, rng, random, positive\n"
          ]
        },
        {
          "output_type": "stream",
          "name": "stdout",
          "text": [
            "[CV 5/5] END ........alpha=0.1, l1_ratio=1;, score=-22899.159 total time=   0.3s\n",
            "[CV 1/5] END ........alpha=1, l1_ratio=0.1;, score=-27931.251 total time=   0.0s\n",
            "[CV 2/5] END ........alpha=1, l1_ratio=0.1;, score=-22224.850 total time=   0.0s\n",
            "[CV 3/5] END ........alpha=1, l1_ratio=0.1;, score=-33769.643 total time=   0.1s\n",
            "[CV 4/5] END ........alpha=1, l1_ratio=0.1;, score=-24995.225 total time=   0.0s\n",
            "[CV 5/5] END ........alpha=1, l1_ratio=0.1;, score=-24683.190 total time=   0.1s\n",
            "[CV 1/5] END ........alpha=1, l1_ratio=0.5;, score=-26391.957 total time=   0.0s\n",
            "[CV 2/5] END ........alpha=1, l1_ratio=0.5;, score=-20769.196 total time=   0.1s\n",
            "[CV 3/5] END ........alpha=1, l1_ratio=0.5;, score=-31304.557 total time=   0.1s\n",
            "[CV 4/5] END ........alpha=1, l1_ratio=0.5;, score=-23675.284 total time=   0.1s\n",
            "[CV 5/5] END ........alpha=1, l1_ratio=0.5;, score=-23571.595 total time=   0.1s\n",
            "[CV 1/5] END ........alpha=1, l1_ratio=0.9;, score=-25205.646 total time=   0.1s\n",
            "[CV 2/5] END ........alpha=1, l1_ratio=0.9;, score=-20108.646 total time=   0.1s\n",
            "[CV 3/5] END ........alpha=1, l1_ratio=0.9;, score=-27946.535 total time=   0.1s\n",
            "[CV 4/5] END ........alpha=1, l1_ratio=0.9;, score=-22273.534 total time=   0.1s\n",
            "[CV 5/5] END ........alpha=1, l1_ratio=0.9;, score=-22785.040 total time=   0.1s\n"
          ]
        },
        {
          "output_type": "stream",
          "name": "stderr",
          "text": [
            "/usr/local/lib/python3.7/dist-packages/sklearn/linear_model/_coordinate_descent.py:648: ConvergenceWarning: Objective did not converge. You might want to increase the number of iterations, check the scale of the features or consider increasing regularisation. Duality gap: 9.887e+10, tolerance: 1.348e+09\n",
            "  coef_, l1_reg, l2_reg, X, y, max_iter, tol, rng, random, positive\n"
          ]
        },
        {
          "output_type": "stream",
          "name": "stdout",
          "text": [
            "[CV 1/5] END ..........alpha=1, l1_ratio=1;, score=-26652.834 total time=   0.3s\n"
          ]
        },
        {
          "output_type": "stream",
          "name": "stderr",
          "text": [
            "/usr/local/lib/python3.7/dist-packages/sklearn/linear_model/_coordinate_descent.py:648: ConvergenceWarning: Objective did not converge. You might want to increase the number of iterations, check the scale of the features or consider increasing regularisation. Duality gap: 1.407e+11, tolerance: 1.377e+09\n",
            "  coef_, l1_reg, l2_reg, X, y, max_iter, tol, rng, random, positive\n"
          ]
        },
        {
          "output_type": "stream",
          "name": "stdout",
          "text": [
            "[CV 2/5] END ..........alpha=1, l1_ratio=1;, score=-21234.652 total time=   0.3s\n"
          ]
        },
        {
          "output_type": "stream",
          "name": "stderr",
          "text": [
            "/usr/local/lib/python3.7/dist-packages/sklearn/linear_model/_coordinate_descent.py:648: ConvergenceWarning: Objective did not converge. You might want to increase the number of iterations, check the scale of the features or consider increasing regularisation. Duality gap: 2.961e+11, tolerance: 1.280e+09\n",
            "  coef_, l1_reg, l2_reg, X, y, max_iter, tol, rng, random, positive\n"
          ]
        },
        {
          "output_type": "stream",
          "name": "stdout",
          "text": [
            "[CV 3/5] END ..........alpha=1, l1_ratio=1;, score=-27498.588 total time=   0.3s\n"
          ]
        },
        {
          "output_type": "stream",
          "name": "stderr",
          "text": [
            "/usr/local/lib/python3.7/dist-packages/sklearn/linear_model/_coordinate_descent.py:648: ConvergenceWarning: Objective did not converge. You might want to increase the number of iterations, check the scale of the features or consider increasing regularisation. Duality gap: 2.592e+11, tolerance: 1.375e+09\n",
            "  coef_, l1_reg, l2_reg, X, y, max_iter, tol, rng, random, positive\n"
          ]
        },
        {
          "output_type": "stream",
          "name": "stdout",
          "text": [
            "[CV 4/5] END ..........alpha=1, l1_ratio=1;, score=-22286.092 total time=   0.3s\n"
          ]
        },
        {
          "output_type": "stream",
          "name": "stderr",
          "text": [
            "/usr/local/lib/python3.7/dist-packages/sklearn/linear_model/_coordinate_descent.py:648: ConvergenceWarning: Objective did not converge. You might want to increase the number of iterations, check the scale of the features or consider increasing regularisation. Duality gap: 2.274e+11, tolerance: 1.371e+09\n",
            "  coef_, l1_reg, l2_reg, X, y, max_iter, tol, rng, random, positive\n"
          ]
        },
        {
          "output_type": "stream",
          "name": "stdout",
          "text": [
            "[CV 5/5] END ..........alpha=1, l1_ratio=1;, score=-22886.717 total time=   0.3s\n",
            "[CV 1/5] END .......alpha=10, l1_ratio=0.1;, score=-44554.995 total time=   0.0s\n",
            "[CV 2/5] END .......alpha=10, l1_ratio=0.1;, score=-40623.789 total time=   0.0s\n",
            "[CV 3/5] END .......alpha=10, l1_ratio=0.1;, score=-53048.511 total time=   0.0s\n",
            "[CV 4/5] END .......alpha=10, l1_ratio=0.1;, score=-41203.346 total time=   0.0s\n",
            "[CV 5/5] END .......alpha=10, l1_ratio=0.1;, score=-40994.217 total time=   0.0s\n",
            "[CV 1/5] END .......alpha=10, l1_ratio=0.5;, score=-38313.640 total time=   0.0s\n",
            "[CV 2/5] END .......alpha=10, l1_ratio=0.5;, score=-33817.463 total time=   0.0s\n",
            "[CV 3/5] END .......alpha=10, l1_ratio=0.5;, score=-46435.674 total time=   0.0s\n",
            "[CV 4/5] END .......alpha=10, l1_ratio=0.5;, score=-34935.103 total time=   0.0s\n",
            "[CV 5/5] END .......alpha=10, l1_ratio=0.5;, score=-34543.731 total time=   0.0s\n",
            "[CV 1/5] END .......alpha=10, l1_ratio=0.9;, score=-28299.963 total time=   0.0s\n",
            "[CV 2/5] END .......alpha=10, l1_ratio=0.9;, score=-22604.542 total time=   0.0s\n",
            "[CV 3/5] END .......alpha=10, l1_ratio=0.9;, score=-34309.995 total time=   0.0s\n",
            "[CV 4/5] END .......alpha=10, l1_ratio=0.9;, score=-25321.262 total time=   0.0s\n",
            "[CV 5/5] END .......alpha=10, l1_ratio=0.9;, score=-24973.637 total time=   0.0s\n",
            "[CV 1/5] END .........alpha=10, l1_ratio=1;, score=-26433.560 total time=   0.3s\n"
          ]
        },
        {
          "output_type": "stream",
          "name": "stderr",
          "text": [
            "/usr/local/lib/python3.7/dist-packages/sklearn/linear_model/_coordinate_descent.py:648: ConvergenceWarning: Objective did not converge. You might want to increase the number of iterations, check the scale of the features or consider increasing regularisation. Duality gap: 2.430e+09, tolerance: 1.377e+09\n",
            "  coef_, l1_reg, l2_reg, X, y, max_iter, tol, rng, random, positive\n"
          ]
        },
        {
          "output_type": "stream",
          "name": "stdout",
          "text": [
            "[CV 2/5] END .........alpha=10, l1_ratio=1;, score=-21073.809 total time=   0.3s\n"
          ]
        },
        {
          "output_type": "stream",
          "name": "stderr",
          "text": [
            "/usr/local/lib/python3.7/dist-packages/sklearn/linear_model/_coordinate_descent.py:648: ConvergenceWarning: Objective did not converge. You might want to increase the number of iterations, check the scale of the features or consider increasing regularisation. Duality gap: 6.759e+10, tolerance: 1.280e+09\n",
            "  coef_, l1_reg, l2_reg, X, y, max_iter, tol, rng, random, positive\n"
          ]
        },
        {
          "output_type": "stream",
          "name": "stdout",
          "text": [
            "[CV 3/5] END .........alpha=10, l1_ratio=1;, score=-27266.361 total time=   0.3s\n",
            "[CV 4/5] END .........alpha=10, l1_ratio=1;, score=-22148.241 total time=   0.3s\n",
            "[CV 5/5] END .........alpha=10, l1_ratio=1;, score=-22846.598 total time=   0.3s\n",
            "[CV 1/5] END ......alpha=100, l1_ratio=0.1;, score=-71229.421 total time=   0.0s\n",
            "[CV 2/5] END ......alpha=100, l1_ratio=0.1;, score=-67831.063 total time=   0.0s\n",
            "[CV 3/5] END ......alpha=100, l1_ratio=0.1;, score=-79386.745 total time=   0.0s\n",
            "[CV 4/5] END ......alpha=100, l1_ratio=0.1;, score=-67984.703 total time=   0.0s\n",
            "[CV 5/5] END ......alpha=100, l1_ratio=0.1;, score=-68456.068 total time=   0.0s\n",
            "[CV 1/5] END ......alpha=100, l1_ratio=0.5;, score=-65937.272 total time=   0.0s\n",
            "[CV 2/5] END ......alpha=100, l1_ratio=0.5;, score=-62553.398 total time=   0.0s\n",
            "[CV 3/5] END ......alpha=100, l1_ratio=0.5;, score=-74268.951 total time=   0.0s\n",
            "[CV 4/5] END ......alpha=100, l1_ratio=0.5;, score=-62677.835 total time=   0.0s\n",
            "[CV 5/5] END ......alpha=100, l1_ratio=0.5;, score=-63058.893 total time=   0.0s\n",
            "[CV 1/5] END ......alpha=100, l1_ratio=0.9;, score=-45905.932 total time=   0.0s\n",
            "[CV 2/5] END ......alpha=100, l1_ratio=0.9;, score=-42069.759 total time=   0.0s\n",
            "[CV 3/5] END ......alpha=100, l1_ratio=0.9;, score=-54442.031 total time=   0.0s\n",
            "[CV 4/5] END ......alpha=100, l1_ratio=0.9;, score=-42561.221 total time=   0.0s\n",
            "[CV 5/5] END ......alpha=100, l1_ratio=0.9;, score=-42401.151 total time=   0.0s\n",
            "[CV 1/5] END ........alpha=100, l1_ratio=1;, score=-25119.010 total time=   0.1s\n",
            "[CV 2/5] END ........alpha=100, l1_ratio=1;, score=-20216.781 total time=   0.2s\n",
            "[CV 3/5] END ........alpha=100, l1_ratio=1;, score=-26305.959 total time=   0.1s\n",
            "[CV 4/5] END ........alpha=100, l1_ratio=1;, score=-22069.990 total time=   0.2s\n",
            "[CV 5/5] END ........alpha=100, l1_ratio=1;, score=-22460.424 total time=   0.1s\n",
            "[CV 1/5] END .....alpha=1000, l1_ratio=0.1;, score=-79289.362 total time=   0.0s\n",
            "[CV 2/5] END .....alpha=1000, l1_ratio=0.1;, score=-75840.745 total time=   0.0s\n",
            "[CV 3/5] END .....alpha=1000, l1_ratio=0.1;, score=-87151.251 total time=   0.0s\n",
            "[CV 4/5] END .....alpha=1000, l1_ratio=0.1;, score=-76070.511 total time=   0.0s\n",
            "[CV 5/5] END .....alpha=1000, l1_ratio=0.1;, score=-76642.651 total time=   0.0s\n",
            "[CV 1/5] END .....alpha=1000, l1_ratio=0.5;, score=-78488.034 total time=   0.0s\n",
            "[CV 2/5] END .....alpha=1000, l1_ratio=0.5;, score=-75046.121 total time=   0.0s\n",
            "[CV 3/5] END .....alpha=1000, l1_ratio=0.5;, score=-86381.380 total time=   0.0s\n",
            "[CV 4/5] END .....alpha=1000, l1_ratio=0.5;, score=-75266.153 total time=   0.0s\n",
            "[CV 5/5] END .....alpha=1000, l1_ratio=0.5;, score=-75830.311 total time=   0.0s\n",
            "[CV 1/5] END .....alpha=1000, l1_ratio=0.9;, score=-72277.973 total time=   0.0s\n",
            "[CV 2/5] END .....alpha=1000, l1_ratio=0.9;, score=-68883.730 total time=   0.0s\n",
            "[CV 3/5] END .....alpha=1000, l1_ratio=0.9;, score=-80408.463 total time=   0.0s\n",
            "[CV 4/5] END .....alpha=1000, l1_ratio=0.9;, score=-69035.976 total time=   0.0s\n",
            "[CV 5/5] END .....alpha=1000, l1_ratio=0.9;, score=-69524.890 total time=   0.0s\n",
            "[CV 1/5] END .......alpha=1000, l1_ratio=1;, score=-25126.626 total time=   0.0s\n",
            "[CV 2/5] END .......alpha=1000, l1_ratio=1;, score=-19407.174 total time=   0.0s\n",
            "[CV 3/5] END .......alpha=1000, l1_ratio=1;, score=-28850.126 total time=   0.0s\n",
            "[CV 4/5] END .......alpha=1000, l1_ratio=1;, score=-23448.439 total time=   0.0s\n",
            "[CV 5/5] END .......alpha=1000, l1_ratio=1;, score=-22625.031 total time=   0.0s\n"
          ]
        },
        {
          "output_type": "execute_result",
          "data": {
            "text/plain": [
              "GridSearchCV(cv=5, estimator=ElasticNet(),\n",
              "             param_grid={'alpha': [0.1, 1, 10, 100, 1000],\n",
              "                         'l1_ratio': [0.1, 0.5, 0.9, 1]},\n",
              "             scoring='neg_root_mean_squared_error', verbose=2.1)"
            ]
          },
          "metadata": {},
          "execution_count": 45
        }
      ],
      "source": [
        "grid_model.fit(X_train, y_train)"
      ]
    },
    {
      "cell_type": "code",
      "execution_count": 46,
      "metadata": {
        "id": "7KuX0JeUDLZe",
        "outputId": "40a7b1fb-896c-4a74-87e1-e6e492e2aeda",
        "colab": {
          "base_uri": "https://localhost:8080/"
        }
      },
      "outputs": [
        {
          "output_type": "execute_result",
          "data": {
            "text/plain": [
              "{'alpha': 100, 'l1_ratio': 1}"
            ]
          },
          "metadata": {},
          "execution_count": 46
        }
      ],
      "source": [
        "grid_model.best_params_"
      ]
    },
    {
      "cell_type": "markdown",
      "source": [
        "Adjusting hyper parameters."
      ],
      "metadata": {
        "id": "OHIwCEJd2xgY"
      }
    },
    {
      "cell_type": "code",
      "source": [
        "param_grid = {'alpha': [50, 100, 150, 200, 500],\n",
        "              'l1_ratio': [.99, .995, 1]}\n",
        "grid_model = GridSearchCV(model, param_grid,scoring=\"neg_root_mean_squared_error\",cv=5,verbose=2.1)\n",
        "grid_model.fit(X_train, y_train)"
      ],
      "metadata": {
        "colab": {
          "base_uri": "https://localhost:8080/"
        },
        "id": "KYYP-Lfh22Kv",
        "outputId": "4d99884b-fe81-47f2-a34a-7c66b3d8bf86"
      },
      "execution_count": 47,
      "outputs": [
        {
          "output_type": "stream",
          "name": "stdout",
          "text": [
            "Fitting 5 folds for each of 15 candidates, totalling 75 fits\n",
            "[CV 1/5] END ......alpha=50, l1_ratio=0.99;, score=-26398.198 total time=   0.0s\n",
            "[CV 2/5] END ......alpha=50, l1_ratio=0.99;, score=-20742.730 total time=   0.0s\n",
            "[CV 3/5] END ......alpha=50, l1_ratio=0.99;, score=-31326.598 total time=   0.0s\n",
            "[CV 4/5] END ......alpha=50, l1_ratio=0.99;, score=-23730.946 total time=   0.0s\n",
            "[CV 5/5] END ......alpha=50, l1_ratio=0.99;, score=-23553.955 total time=   0.0s\n",
            "[CV 1/5] END .....alpha=50, l1_ratio=0.995;, score=-25374.798 total time=   0.0s\n",
            "[CV 2/5] END .....alpha=50, l1_ratio=0.995;, score=-19968.776 total time=   0.0s\n",
            "[CV 3/5] END .....alpha=50, l1_ratio=0.995;, score=-29326.820 total time=   0.0s\n",
            "[CV 4/5] END .....alpha=50, l1_ratio=0.995;, score=-22852.221 total time=   0.0s\n",
            "[CV 5/5] END .....alpha=50, l1_ratio=0.995;, score=-22927.446 total time=   0.0s\n",
            "[CV 1/5] END .........alpha=50, l1_ratio=1;, score=-25773.251 total time=   0.2s\n",
            "[CV 2/5] END .........alpha=50, l1_ratio=1;, score=-20613.019 total time=   0.3s\n",
            "[CV 3/5] END .........alpha=50, l1_ratio=1;, score=-26613.656 total time=   0.2s\n"
          ]
        },
        {
          "output_type": "stream",
          "name": "stderr",
          "text": [
            "/usr/local/lib/python3.7/dist-packages/sklearn/linear_model/_coordinate_descent.py:648: ConvergenceWarning: Objective did not converge. You might want to increase the number of iterations, check the scale of the features or consider increasing regularisation. Duality gap: 3.091e+09, tolerance: 1.375e+09\n",
            "  coef_, l1_reg, l2_reg, X, y, max_iter, tol, rng, random, positive\n"
          ]
        },
        {
          "output_type": "stream",
          "name": "stdout",
          "text": [
            "[CV 4/5] END .........alpha=50, l1_ratio=1;, score=-22115.176 total time=   0.3s\n",
            "[CV 5/5] END .........alpha=50, l1_ratio=1;, score=-22694.934 total time=   0.2s\n",
            "[CV 1/5] END .....alpha=100, l1_ratio=0.99;, score=-28378.666 total time=   0.0s\n",
            "[CV 2/5] END .....alpha=100, l1_ratio=0.99;, score=-22670.729 total time=   0.0s\n",
            "[CV 3/5] END .....alpha=100, l1_ratio=0.99;, score=-34405.652 total time=   0.0s\n",
            "[CV 4/5] END .....alpha=100, l1_ratio=0.99;, score=-25423.836 total time=   0.0s\n",
            "[CV 5/5] END .....alpha=100, l1_ratio=0.99;, score=-25004.182 total time=   0.0s\n",
            "[CV 1/5] END ....alpha=100, l1_ratio=0.995;, score=-26421.821 total time=   0.0s\n",
            "[CV 2/5] END ....alpha=100, l1_ratio=0.995;, score=-20729.938 total time=   0.0s\n",
            "[CV 3/5] END ....alpha=100, l1_ratio=0.995;, score=-31355.607 total time=   0.0s\n",
            "[CV 4/5] END ....alpha=100, l1_ratio=0.995;, score=-23787.281 total time=   0.0s\n",
            "[CV 5/5] END ....alpha=100, l1_ratio=0.995;, score=-23536.708 total time=   0.0s\n",
            "[CV 1/5] END ........alpha=100, l1_ratio=1;, score=-25119.010 total time=   0.1s\n",
            "[CV 2/5] END ........alpha=100, l1_ratio=1;, score=-20216.781 total time=   0.1s\n",
            "[CV 3/5] END ........alpha=100, l1_ratio=1;, score=-26305.959 total time=   0.1s\n",
            "[CV 4/5] END ........alpha=100, l1_ratio=1;, score=-22069.990 total time=   0.2s\n",
            "[CV 5/5] END ........alpha=100, l1_ratio=1;, score=-22460.424 total time=   0.2s\n",
            "[CV 1/5] END .....alpha=150, l1_ratio=0.99;, score=-30101.596 total time=   0.0s\n",
            "[CV 2/5] END .....alpha=150, l1_ratio=0.99;, score=-24563.804 total time=   0.0s\n",
            "[CV 3/5] END .....alpha=150, l1_ratio=0.99;, score=-36805.517 total time=   0.0s\n",
            "[CV 4/5] END .....alpha=150, l1_ratio=0.99;, score=-26980.481 total time=   0.0s\n",
            "[CV 5/5] END .....alpha=150, l1_ratio=0.99;, score=-26505.083 total time=   0.0s\n",
            "[CV 1/5] END ....alpha=150, l1_ratio=0.995;, score=-27474.274 total time=   0.0s\n",
            "[CV 2/5] END ....alpha=150, l1_ratio=0.995;, score=-21729.187 total time=   0.0s\n",
            "[CV 3/5] END ....alpha=150, l1_ratio=0.995;, score=-33062.882 total time=   0.0s\n",
            "[CV 4/5] END ....alpha=150, l1_ratio=0.995;, score=-24675.027 total time=   0.0s\n",
            "[CV 5/5] END ....alpha=150, l1_ratio=0.995;, score=-24278.209 total time=   0.0s\n",
            "[CV 1/5] END ........alpha=150, l1_ratio=1;, score=-24650.174 total time=   0.1s\n",
            "[CV 2/5] END ........alpha=150, l1_ratio=1;, score=-19933.763 total time=   0.1s\n",
            "[CV 3/5] END ........alpha=150, l1_ratio=1;, score=-26039.383 total time=   0.1s\n",
            "[CV 4/5] END ........alpha=150, l1_ratio=1;, score=-22093.776 total time=   0.1s\n",
            "[CV 5/5] END ........alpha=150, l1_ratio=1;, score=-22247.798 total time=   0.1s\n",
            "[CV 1/5] END .....alpha=200, l1_ratio=0.99;, score=-31662.333 total time=   0.0s\n",
            "[CV 2/5] END .....alpha=200, l1_ratio=0.99;, score=-26324.160 total time=   0.0s\n",
            "[CV 3/5] END .....alpha=200, l1_ratio=0.99;, score=-38796.214 total time=   0.0s\n",
            "[CV 4/5] END .....alpha=200, l1_ratio=0.99;, score=-28416.641 total time=   0.0s\n",
            "[CV 5/5] END .....alpha=200, l1_ratio=0.99;, score=-27960.365 total time=   0.0s\n",
            "[CV 1/5] END ....alpha=200, l1_ratio=0.995;, score=-28485.925 total time=   0.0s\n",
            "[CV 2/5] END ....alpha=200, l1_ratio=0.995;, score=-22774.015 total time=   0.0s\n",
            "[CV 3/5] END ....alpha=200, l1_ratio=0.995;, score=-34546.710 total time=   0.0s\n",
            "[CV 4/5] END ....alpha=200, l1_ratio=0.995;, score=-25543.145 total time=   0.0s\n",
            "[CV 5/5] END ....alpha=200, l1_ratio=0.995;, score=-25045.639 total time=   0.0s\n",
            "[CV 1/5] END ........alpha=200, l1_ratio=1;, score=-24426.925 total time=   0.1s\n",
            "[CV 2/5] END ........alpha=200, l1_ratio=1;, score=-19709.236 total time=   0.1s\n",
            "[CV 3/5] END ........alpha=200, l1_ratio=1;, score=-25981.814 total time=   0.1s\n",
            "[CV 4/5] END ........alpha=200, l1_ratio=1;, score=-22163.009 total time=   0.1s\n",
            "[CV 5/5] END ........alpha=200, l1_ratio=1;, score=-22125.953 total time=   0.1s\n",
            "[CV 1/5] END .....alpha=500, l1_ratio=0.99;, score=-38852.476 total time=   0.0s\n",
            "[CV 2/5] END .....alpha=500, l1_ratio=0.99;, score=-34477.383 total time=   0.0s\n",
            "[CV 3/5] END .....alpha=500, l1_ratio=0.99;, score=-47031.487 total time=   0.0s\n",
            "[CV 4/5] END .....alpha=500, l1_ratio=0.99;, score=-35445.500 total time=   0.0s\n",
            "[CV 5/5] END .....alpha=500, l1_ratio=0.99;, score=-35114.874 total time=   0.0s\n",
            "[CV 1/5] END ....alpha=500, l1_ratio=0.995;, score=-33363.250 total time=   0.0s\n",
            "[CV 2/5] END ....alpha=500, l1_ratio=0.995;, score=-28320.238 total time=   0.0s\n",
            "[CV 3/5] END ....alpha=500, l1_ratio=0.995;, score=-40850.540 total time=   0.0s\n",
            "[CV 4/5] END ....alpha=500, l1_ratio=0.995;, score=-30048.236 total time=   0.0s\n",
            "[CV 5/5] END ....alpha=500, l1_ratio=0.995;, score=-29618.406 total time=   0.0s\n",
            "[CV 1/5] END ........alpha=500, l1_ratio=1;, score=-24388.474 total time=   0.0s\n",
            "[CV 2/5] END ........alpha=500, l1_ratio=1;, score=-19126.579 total time=   0.0s\n",
            "[CV 3/5] END ........alpha=500, l1_ratio=1;, score=-26924.833 total time=   0.0s\n",
            "[CV 4/5] END ........alpha=500, l1_ratio=1;, score=-22639.453 total time=   0.0s\n",
            "[CV 5/5] END ........alpha=500, l1_ratio=1;, score=-22023.882 total time=   0.0s\n"
          ]
        },
        {
          "output_type": "execute_result",
          "data": {
            "text/plain": [
              "GridSearchCV(cv=5, estimator=ElasticNet(),\n",
              "             param_grid={'alpha': [50, 100, 150, 200, 500],\n",
              "                         'l1_ratio': [0.99, 0.995, 1]},\n",
              "             scoring='neg_root_mean_squared_error', verbose=2.1)"
            ]
          },
          "metadata": {},
          "execution_count": 47
        }
      ]
    },
    {
      "cell_type": "code",
      "source": [
        "grid_model.best_params_"
      ],
      "metadata": {
        "colab": {
          "base_uri": "https://localhost:8080/"
        },
        "id": "V3UAaJAv3HjR",
        "outputId": "f4bceec7-a85c-4569-c6e0-6869ee40ba7b"
      },
      "execution_count": 48,
      "outputs": [
        {
          "output_type": "execute_result",
          "data": {
            "text/plain": [
              "{'alpha': 200, 'l1_ratio': 1}"
            ]
          },
          "metadata": {},
          "execution_count": 48
        }
      ]
    },
    {
      "cell_type": "code",
      "source": [
        "param_grid = {'alpha': [180, 190, 195, 200, 205, 210, 220],\n",
        "              'l1_ratio': [.995, .999, 1]}\n",
        "grid_model = GridSearchCV(model, param_grid,scoring=\"neg_root_mean_squared_error\",cv=5,verbose=2.1)\n",
        "grid_model.fit(X_train, y_train)"
      ],
      "metadata": {
        "colab": {
          "base_uri": "https://localhost:8080/"
        },
        "id": "ZVtZ3eCU3Mh3",
        "outputId": "99f5eeed-bfc4-4225-f581-6158d5119cef"
      },
      "execution_count": 49,
      "outputs": [
        {
          "output_type": "stream",
          "name": "stdout",
          "text": [
            "Fitting 5 folds for each of 21 candidates, totalling 105 fits\n",
            "[CV 1/5] END ....alpha=180, l1_ratio=0.995;, score=-28089.869 total time=   0.0s\n",
            "[CV 2/5] END ....alpha=180, l1_ratio=0.995;, score=-22357.361 total time=   0.0s\n",
            "[CV 3/5] END ....alpha=180, l1_ratio=0.995;, score=-33977.483 total time=   0.0s\n",
            "[CV 4/5] END ....alpha=180, l1_ratio=0.995;, score=-25199.860 total time=   0.0s\n",
            "[CV 5/5] END ....alpha=180, l1_ratio=0.995;, score=-24730.337 total time=   0.0s\n",
            "[CV 1/5] END ....alpha=180, l1_ratio=0.999;, score=-24979.354 total time=   0.0s\n",
            "[CV 2/5] END ....alpha=180, l1_ratio=0.999;, score=-19616.941 total time=   0.0s\n",
            "[CV 3/5] END ....alpha=180, l1_ratio=0.999;, score=-28665.929 total time=   0.0s\n",
            "[CV 4/5] END ....alpha=180, l1_ratio=0.999;, score=-22728.815 total time=   0.0s\n",
            "[CV 5/5] END ....alpha=180, l1_ratio=0.999;, score=-22591.062 total time=   0.0s\n",
            "[CV 1/5] END ........alpha=180, l1_ratio=1;, score=-24480.082 total time=   0.1s\n",
            "[CV 2/5] END ........alpha=180, l1_ratio=1;, score=-19798.574 total time=   0.1s\n",
            "[CV 3/5] END ........alpha=180, l1_ratio=1;, score=-25930.764 total time=   0.1s\n",
            "[CV 4/5] END ........alpha=180, l1_ratio=1;, score=-22126.729 total time=   0.1s\n",
            "[CV 5/5] END ........alpha=180, l1_ratio=1;, score=-22168.853 total time=   0.1s\n",
            "[CV 1/5] END ....alpha=190, l1_ratio=0.995;, score=-28288.497 total time=   0.0s\n",
            "[CV 2/5] END ....alpha=190, l1_ratio=0.995;, score=-22565.543 total time=   0.0s\n",
            "[CV 3/5] END ....alpha=190, l1_ratio=0.995;, score=-34265.631 total time=   0.0s\n",
            "[CV 4/5] END ....alpha=190, l1_ratio=0.995;, score=-25373.087 total time=   0.0s\n",
            "[CV 5/5] END ....alpha=190, l1_ratio=0.995;, score=-24885.625 total time=   0.0s\n",
            "[CV 1/5] END ....alpha=190, l1_ratio=0.999;, score=-25020.160 total time=   0.0s\n",
            "[CV 2/5] END ....alpha=190, l1_ratio=0.999;, score=-19627.553 total time=   0.0s\n",
            "[CV 3/5] END ....alpha=190, l1_ratio=0.999;, score=-28795.291 total time=   0.0s\n",
            "[CV 4/5] END ....alpha=190, l1_ratio=0.999;, score=-22783.916 total time=   0.0s\n",
            "[CV 5/5] END ....alpha=190, l1_ratio=0.999;, score=-22611.185 total time=   0.0s\n",
            "[CV 1/5] END ........alpha=190, l1_ratio=1;, score=-24443.048 total time=   0.1s\n",
            "[CV 2/5] END ........alpha=190, l1_ratio=1;, score=-19754.830 total time=   0.1s\n",
            "[CV 3/5] END ........alpha=190, l1_ratio=1;, score=-25956.444 total time=   0.1s\n",
            "[CV 4/5] END ........alpha=190, l1_ratio=1;, score=-22144.146 total time=   0.1s\n",
            "[CV 5/5] END ........alpha=190, l1_ratio=1;, score=-22146.544 total time=   0.1s\n",
            "[CV 1/5] END ....alpha=195, l1_ratio=0.995;, score=-28387.561 total time=   0.0s\n",
            "[CV 2/5] END ....alpha=195, l1_ratio=0.995;, score=-22669.459 total time=   0.0s\n",
            "[CV 3/5] END ....alpha=195, l1_ratio=0.995;, score=-34406.432 total time=   0.0s\n",
            "[CV 4/5] END ....alpha=195, l1_ratio=0.995;, score=-25458.932 total time=   0.0s\n",
            "[CV 5/5] END ....alpha=195, l1_ratio=0.995;, score=-24965.599 total time=   0.0s\n",
            "[CV 1/5] END ....alpha=195, l1_ratio=0.999;, score=-25041.956 total time=   0.0s\n",
            "[CV 2/5] END ....alpha=195, l1_ratio=0.999;, score=-19634.066 total time=   0.0s\n",
            "[CV 3/5] END ....alpha=195, l1_ratio=0.999;, score=-28859.092 total time=   0.0s\n",
            "[CV 4/5] END ....alpha=195, l1_ratio=0.999;, score=-22809.823 total time=   0.0s\n",
            "[CV 5/5] END ....alpha=195, l1_ratio=0.999;, score=-22620.945 total time=   0.0s\n",
            "[CV 1/5] END ........alpha=195, l1_ratio=1;, score=-24431.359 total time=   0.1s\n",
            "[CV 2/5] END ........alpha=195, l1_ratio=1;, score=-19731.856 total time=   0.1s\n",
            "[CV 3/5] END ........alpha=195, l1_ratio=1;, score=-25969.188 total time=   0.1s\n",
            "[CV 4/5] END ........alpha=195, l1_ratio=1;, score=-22154.542 total time=   0.1s\n",
            "[CV 5/5] END ........alpha=195, l1_ratio=1;, score=-22136.014 total time=   0.1s\n",
            "[CV 1/5] END ....alpha=200, l1_ratio=0.995;, score=-28485.925 total time=   0.0s\n",
            "[CV 2/5] END ....alpha=200, l1_ratio=0.995;, score=-22774.015 total time=   0.0s\n",
            "[CV 3/5] END ....alpha=200, l1_ratio=0.995;, score=-34546.710 total time=   0.0s\n",
            "[CV 4/5] END ....alpha=200, l1_ratio=0.995;, score=-25543.145 total time=   0.0s\n",
            "[CV 5/5] END ....alpha=200, l1_ratio=0.995;, score=-25045.639 total time=   0.0s\n",
            "[CV 1/5] END ....alpha=200, l1_ratio=0.999;, score=-25064.321 total time=   0.0s\n",
            "[CV 2/5] END ....alpha=200, l1_ratio=0.999;, score=-19643.066 total time=   0.0s\n",
            "[CV 3/5] END ....alpha=200, l1_ratio=0.999;, score=-28922.146 total time=   0.0s\n",
            "[CV 4/5] END ....alpha=200, l1_ratio=0.999;, score=-22834.273 total time=   0.0s\n",
            "[CV 5/5] END ....alpha=200, l1_ratio=0.999;, score=-22630.766 total time=   0.0s\n",
            "[CV 1/5] END ........alpha=200, l1_ratio=1;, score=-24426.925 total time=   0.1s\n",
            "[CV 2/5] END ........alpha=200, l1_ratio=1;, score=-19709.236 total time=   0.1s\n",
            "[CV 3/5] END ........alpha=200, l1_ratio=1;, score=-25981.814 total time=   0.1s\n",
            "[CV 4/5] END ........alpha=200, l1_ratio=1;, score=-22163.009 total time=   0.1s\n",
            "[CV 5/5] END ........alpha=200, l1_ratio=1;, score=-22125.953 total time=   0.1s\n",
            "[CV 1/5] END ....alpha=205, l1_ratio=0.995;, score=-28583.606 total time=   0.0s\n",
            "[CV 2/5] END ....alpha=205, l1_ratio=0.995;, score=-22876.668 total time=   0.0s\n",
            "[CV 3/5] END ....alpha=205, l1_ratio=0.995;, score=-34683.919 total time=   0.0s\n",
            "[CV 4/5] END ....alpha=205, l1_ratio=0.995;, score=-25627.285 total time=   0.0s\n",
            "[CV 5/5] END ....alpha=205, l1_ratio=0.995;, score=-25126.159 total time=   0.0s\n",
            "[CV 1/5] END ....alpha=205, l1_ratio=0.999;, score=-25086.745 total time=   0.0s\n",
            "[CV 2/5] END ....alpha=205, l1_ratio=0.999;, score=-19653.322 total time=   0.0s\n",
            "[CV 3/5] END ....alpha=205, l1_ratio=0.999;, score=-28984.465 total time=   0.0s\n",
            "[CV 4/5] END ....alpha=205, l1_ratio=0.999;, score=-22858.085 total time=   0.0s\n",
            "[CV 5/5] END ....alpha=205, l1_ratio=0.999;, score=-22640.861 total time=   0.0s\n",
            "[CV 1/5] END ........alpha=205, l1_ratio=1;, score=-24423.215 total time=   0.1s\n",
            "[CV 2/5] END ........alpha=205, l1_ratio=1;, score=-19687.226 total time=   0.1s\n",
            "[CV 3/5] END ........alpha=205, l1_ratio=1;, score=-25994.533 total time=   0.1s\n",
            "[CV 4/5] END ........alpha=205, l1_ratio=1;, score=-22171.548 total time=   0.1s\n",
            "[CV 5/5] END ........alpha=205, l1_ratio=1;, score=-22116.391 total time=   0.1s\n",
            "[CV 1/5] END ....alpha=210, l1_ratio=0.995;, score=-28680.651 total time=   0.0s\n",
            "[CV 2/5] END ....alpha=210, l1_ratio=0.995;, score=-22980.971 total time=   0.0s\n",
            "[CV 3/5] END ....alpha=210, l1_ratio=0.995;, score=-34819.067 total time=   0.0s\n",
            "[CV 4/5] END ....alpha=210, l1_ratio=0.995;, score=-25711.091 total time=   0.0s\n",
            "[CV 5/5] END ....alpha=210, l1_ratio=0.995;, score=-25206.869 total time=   0.0s\n",
            "[CV 1/5] END ....alpha=210, l1_ratio=0.999;, score=-25109.533 total time=   0.0s\n",
            "[CV 2/5] END ....alpha=210, l1_ratio=0.999;, score=-19664.076 total time=   0.0s\n",
            "[CV 3/5] END ....alpha=210, l1_ratio=0.999;, score=-29045.892 total time=   0.0s\n",
            "[CV 4/5] END ....alpha=210, l1_ratio=0.999;, score=-22881.965 total time=   0.0s\n",
            "[CV 5/5] END ....alpha=210, l1_ratio=0.999;, score=-22651.566 total time=   0.0s\n",
            "[CV 1/5] END ........alpha=210, l1_ratio=1;, score=-24420.167 total time=   0.1s\n",
            "[CV 2/5] END ........alpha=210, l1_ratio=1;, score=-19667.337 total time=   0.1s\n",
            "[CV 3/5] END ........alpha=210, l1_ratio=1;, score=-26007.543 total time=   0.1s\n",
            "[CV 4/5] END ........alpha=210, l1_ratio=1;, score=-22180.388 total time=   0.1s\n",
            "[CV 5/5] END ........alpha=210, l1_ratio=1;, score=-22106.420 total time=   0.1s\n",
            "[CV 1/5] END ....alpha=220, l1_ratio=0.995;, score=-28870.859 total time=   0.0s\n",
            "[CV 2/5] END ....alpha=220, l1_ratio=0.995;, score=-23187.117 total time=   0.0s\n",
            "[CV 3/5] END ....alpha=220, l1_ratio=0.995;, score=-35082.018 total time=   0.0s\n",
            "[CV 4/5] END ....alpha=220, l1_ratio=0.995;, score=-25878.069 total time=   0.0s\n",
            "[CV 5/5] END ....alpha=220, l1_ratio=0.995;, score=-25368.506 total time=   0.0s\n",
            "[CV 1/5] END ....alpha=220, l1_ratio=0.999;, score=-25156.111 total time=   0.0s\n",
            "[CV 2/5] END ....alpha=220, l1_ratio=0.999;, score=-19687.742 total time=   0.0s\n",
            "[CV 3/5] END ....alpha=220, l1_ratio=0.999;, score=-29167.344 total time=   0.0s\n",
            "[CV 4/5] END ....alpha=220, l1_ratio=0.999;, score=-22929.442 total time=   0.0s\n",
            "[CV 5/5] END ....alpha=220, l1_ratio=0.999;, score=-22674.462 total time=   0.0s\n",
            "[CV 1/5] END ........alpha=220, l1_ratio=1;, score=-24414.352 total time=   0.1s\n",
            "[CV 2/5] END ........alpha=220, l1_ratio=1;, score=-19633.133 total time=   0.1s\n",
            "[CV 3/5] END ........alpha=220, l1_ratio=1;, score=-26038.107 total time=   0.1s\n",
            "[CV 4/5] END ........alpha=220, l1_ratio=1;, score=-22198.979 total time=   0.1s\n",
            "[CV 5/5] END ........alpha=220, l1_ratio=1;, score=-22088.526 total time=   0.1s\n"
          ]
        },
        {
          "output_type": "execute_result",
          "data": {
            "text/plain": [
              "GridSearchCV(cv=5, estimator=ElasticNet(),\n",
              "             param_grid={'alpha': [180, 190, 195, 200, 205, 210, 220],\n",
              "                         'l1_ratio': [0.995, 0.999, 1]},\n",
              "             scoring='neg_root_mean_squared_error', verbose=2.1)"
            ]
          },
          "metadata": {},
          "execution_count": 49
        }
      ]
    },
    {
      "cell_type": "code",
      "source": [
        "grid_model.best_params_"
      ],
      "metadata": {
        "colab": {
          "base_uri": "https://localhost:8080/"
        },
        "id": "sRxQFZ0f3Pj4",
        "outputId": "f9d54d88-e6bc-427c-b8dd-a1a73562cf7e"
      },
      "execution_count": 50,
      "outputs": [
        {
          "output_type": "execute_result",
          "data": {
            "text/plain": [
              "{'alpha': 220, 'l1_ratio': 1}"
            ]
          },
          "metadata": {},
          "execution_count": 50
        }
      ]
    },
    {
      "cell_type": "code",
      "source": [
        "param_grid = {'alpha': [210, 215, 220, 230, 250, 300, 350],\n",
        "              'l1_ratio': [1]}\n",
        "grid_model = GridSearchCV(model, param_grid,scoring=\"neg_root_mean_squared_error\",cv=5,verbose=2.1)\n",
        "grid_model.fit(X_train, y_train)"
      ],
      "metadata": {
        "colab": {
          "base_uri": "https://localhost:8080/"
        },
        "id": "eEwfgd4m4Tcu",
        "outputId": "46d6f484-f3e7-4499-c5bb-1bf17a2c5d00"
      },
      "execution_count": 51,
      "outputs": [
        {
          "output_type": "stream",
          "name": "stdout",
          "text": [
            "Fitting 5 folds for each of 7 candidates, totalling 35 fits\n",
            "[CV 1/5] END ........alpha=210, l1_ratio=1;, score=-24420.167 total time=   0.1s\n",
            "[CV 2/5] END ........alpha=210, l1_ratio=1;, score=-19667.337 total time=   0.1s\n",
            "[CV 3/5] END ........alpha=210, l1_ratio=1;, score=-26007.543 total time=   0.1s\n",
            "[CV 4/5] END ........alpha=210, l1_ratio=1;, score=-22180.388 total time=   0.1s\n",
            "[CV 5/5] END ........alpha=210, l1_ratio=1;, score=-22106.420 total time=   0.1s\n",
            "[CV 1/5] END ........alpha=215, l1_ratio=1;, score=-24417.406 total time=   0.1s\n",
            "[CV 2/5] END ........alpha=215, l1_ratio=1;, score=-19649.703 total time=   0.1s\n",
            "[CV 3/5] END ........alpha=215, l1_ratio=1;, score=-26022.220 total time=   0.1s\n",
            "[CV 4/5] END ........alpha=215, l1_ratio=1;, score=-22189.118 total time=   0.1s\n",
            "[CV 5/5] END ........alpha=215, l1_ratio=1;, score=-22097.148 total time=   0.1s\n",
            "[CV 1/5] END ........alpha=220, l1_ratio=1;, score=-24414.352 total time=   0.1s\n",
            "[CV 2/5] END ........alpha=220, l1_ratio=1;, score=-19633.133 total time=   0.1s\n",
            "[CV 3/5] END ........alpha=220, l1_ratio=1;, score=-26038.107 total time=   0.1s\n",
            "[CV 4/5] END ........alpha=220, l1_ratio=1;, score=-22198.979 total time=   0.1s\n",
            "[CV 5/5] END ........alpha=220, l1_ratio=1;, score=-22088.526 total time=   0.1s\n",
            "[CV 1/5] END ........alpha=230, l1_ratio=1;, score=-24409.059 total time=   0.1s\n",
            "[CV 2/5] END ........alpha=230, l1_ratio=1;, score=-19601.278 total time=   0.1s\n",
            "[CV 3/5] END ........alpha=230, l1_ratio=1;, score=-26070.510 total time=   0.1s\n",
            "[CV 4/5] END ........alpha=230, l1_ratio=1;, score=-22217.784 total time=   0.1s\n",
            "[CV 5/5] END ........alpha=230, l1_ratio=1;, score=-22072.720 total time=   0.1s\n",
            "[CV 1/5] END ........alpha=250, l1_ratio=1;, score=-24395.365 total time=   0.1s\n",
            "[CV 2/5] END ........alpha=250, l1_ratio=1;, score=-19535.577 total time=   0.1s\n",
            "[CV 3/5] END ........alpha=250, l1_ratio=1;, score=-26136.745 total time=   0.1s\n",
            "[CV 4/5] END ........alpha=250, l1_ratio=1;, score=-22256.185 total time=   0.1s\n",
            "[CV 5/5] END ........alpha=250, l1_ratio=1;, score=-22046.466 total time=   0.1s\n",
            "[CV 1/5] END ........alpha=300, l1_ratio=1;, score=-24361.619 total time=   0.1s\n",
            "[CV 2/5] END ........alpha=300, l1_ratio=1;, score=-19402.661 total time=   0.1s\n",
            "[CV 3/5] END ........alpha=300, l1_ratio=1;, score=-26297.032 total time=   0.1s\n",
            "[CV 4/5] END ........alpha=300, l1_ratio=1;, score=-22355.985 total time=   0.1s\n",
            "[CV 5/5] END ........alpha=300, l1_ratio=1;, score=-22010.133 total time=   0.1s\n",
            "[CV 1/5] END ........alpha=350, l1_ratio=1;, score=-24338.971 total time=   0.0s\n",
            "[CV 2/5] END ........alpha=350, l1_ratio=1;, score=-19303.085 total time=   0.1s\n",
            "[CV 3/5] END ........alpha=350, l1_ratio=1;, score=-26458.529 total time=   0.0s\n",
            "[CV 4/5] END ........alpha=350, l1_ratio=1;, score=-22433.606 total time=   0.0s\n",
            "[CV 5/5] END ........alpha=350, l1_ratio=1;, score=-22008.769 total time=   0.1s\n"
          ]
        },
        {
          "output_type": "execute_result",
          "data": {
            "text/plain": [
              "GridSearchCV(cv=5, estimator=ElasticNet(),\n",
              "             param_grid={'alpha': [210, 215, 220, 230, 250, 300, 350],\n",
              "                         'l1_ratio': [1]},\n",
              "             scoring='neg_root_mean_squared_error', verbose=2.1)"
            ]
          },
          "metadata": {},
          "execution_count": 51
        }
      ]
    },
    {
      "cell_type": "code",
      "source": [
        "grid_model.best_params_"
      ],
      "metadata": {
        "colab": {
          "base_uri": "https://localhost:8080/"
        },
        "id": "a33KV_Ay4lBF",
        "outputId": "1f818e6a-1b4f-489f-c241-8b83cdb3f370"
      },
      "execution_count": 52,
      "outputs": [
        {
          "output_type": "execute_result",
          "data": {
            "text/plain": [
              "{'alpha': 250, 'l1_ratio': 1}"
            ]
          },
          "metadata": {},
          "execution_count": 52
        }
      ]
    },
    {
      "cell_type": "code",
      "source": [
        "param_grid = {'alpha': [235, 240, 245, 250, 260, 270],\n",
        "              'l1_ratio': [1]}\n",
        "grid_model = GridSearchCV(model, param_grid,scoring=\"neg_root_mean_squared_error\",cv=5,verbose=2.1)\n",
        "grid_model.fit(X_train, y_train)"
      ],
      "metadata": {
        "colab": {
          "base_uri": "https://localhost:8080/"
        },
        "id": "vD9iLbjZ4lcX",
        "outputId": "2d16a0e6-2d2e-44e5-e516-bc9c9afafa13"
      },
      "execution_count": 53,
      "outputs": [
        {
          "output_type": "stream",
          "name": "stdout",
          "text": [
            "Fitting 5 folds for each of 6 candidates, totalling 30 fits\n",
            "[CV 1/5] END ........alpha=235, l1_ratio=1;, score=-24406.192 total time=   0.1s\n",
            "[CV 2/5] END ........alpha=235, l1_ratio=1;, score=-19584.335 total time=   0.1s\n",
            "[CV 3/5] END ........alpha=235, l1_ratio=1;, score=-26086.844 total time=   0.1s\n",
            "[CV 4/5] END ........alpha=235, l1_ratio=1;, score=-22227.214 total time=   0.1s\n",
            "[CV 5/5] END ........alpha=235, l1_ratio=1;, score=-22065.411 total time=   0.1s\n",
            "[CV 1/5] END ........alpha=240, l1_ratio=1;, score=-24403.363 total time=   0.1s\n",
            "[CV 2/5] END ........alpha=240, l1_ratio=1;, score=-19567.905 total time=   0.1s\n",
            "[CV 3/5] END ........alpha=240, l1_ratio=1;, score=-26102.511 total time=   0.1s\n",
            "[CV 4/5] END ........alpha=240, l1_ratio=1;, score=-22236.986 total time=   0.1s\n",
            "[CV 5/5] END ........alpha=240, l1_ratio=1;, score=-22058.264 total time=   0.1s\n",
            "[CV 1/5] END ........alpha=245, l1_ratio=1;, score=-24400.201 total time=   0.1s\n",
            "[CV 2/5] END ........alpha=245, l1_ratio=1;, score=-19551.684 total time=   0.1s\n",
            "[CV 3/5] END ........alpha=245, l1_ratio=1;, score=-26119.698 total time=   0.1s\n",
            "[CV 4/5] END ........alpha=245, l1_ratio=1;, score=-22246.868 total time=   0.1s\n",
            "[CV 5/5] END ........alpha=245, l1_ratio=1;, score=-22052.088 total time=   0.1s\n",
            "[CV 1/5] END ........alpha=250, l1_ratio=1;, score=-24395.365 total time=   0.1s\n",
            "[CV 2/5] END ........alpha=250, l1_ratio=1;, score=-19535.577 total time=   0.1s\n",
            "[CV 3/5] END ........alpha=250, l1_ratio=1;, score=-26136.745 total time=   0.1s\n",
            "[CV 4/5] END ........alpha=250, l1_ratio=1;, score=-22256.185 total time=   0.1s\n",
            "[CV 5/5] END ........alpha=250, l1_ratio=1;, score=-22046.466 total time=   0.1s\n",
            "[CV 1/5] END ........alpha=260, l1_ratio=1;, score=-24386.549 total time=   0.1s\n",
            "[CV 2/5] END ........alpha=260, l1_ratio=1;, score=-19505.081 total time=   0.1s\n",
            "[CV 3/5] END ........alpha=260, l1_ratio=1;, score=-26170.090 total time=   0.1s\n",
            "[CV 4/5] END ........alpha=260, l1_ratio=1;, score=-22276.613 total time=   0.1s\n",
            "[CV 5/5] END ........alpha=260, l1_ratio=1;, score=-22036.420 total time=   0.1s\n",
            "[CV 1/5] END ........alpha=270, l1_ratio=1;, score=-24379.755 total time=   0.1s\n",
            "[CV 2/5] END ........alpha=270, l1_ratio=1;, score=-19475.245 total time=   0.1s\n",
            "[CV 3/5] END ........alpha=270, l1_ratio=1;, score=-26203.004 total time=   0.1s\n",
            "[CV 4/5] END ........alpha=270, l1_ratio=1;, score=-22296.511 total time=   0.1s\n",
            "[CV 5/5] END ........alpha=270, l1_ratio=1;, score=-22027.602 total time=   0.1s\n"
          ]
        },
        {
          "output_type": "execute_result",
          "data": {
            "text/plain": [
              "GridSearchCV(cv=5, estimator=ElasticNet(),\n",
              "             param_grid={'alpha': [235, 240, 245, 250, 260, 270],\n",
              "                         'l1_ratio': [1]},\n",
              "             scoring='neg_root_mean_squared_error', verbose=2.1)"
            ]
          },
          "metadata": {},
          "execution_count": 53
        }
      ]
    },
    {
      "cell_type": "code",
      "source": [
        "grid_model.best_params_"
      ],
      "metadata": {
        "colab": {
          "base_uri": "https://localhost:8080/"
        },
        "id": "MdHaA_kAWHWz",
        "outputId": "78269be9-6825-4393-eef5-328ef97b26d3"
      },
      "execution_count": 54,
      "outputs": [
        {
          "output_type": "execute_result",
          "data": {
            "text/plain": [
              "{'alpha': 240, 'l1_ratio': 1}"
            ]
          },
          "metadata": {},
          "execution_count": 54
        }
      ]
    },
    {
      "cell_type": "markdown",
      "metadata": {
        "id": "jGIBn37HDLZf"
      },
      "source": [
        "### Evaluation of the model"
      ]
    },
    {
      "cell_type": "code",
      "execution_count": 55,
      "metadata": {
        "id": "d98_9o7ZDLZf"
      },
      "outputs": [],
      "source": [
        "y_pred = grid_model.predict(X_test)"
      ]
    },
    {
      "cell_type": "code",
      "source": [
        "from sklearn.metrics import mean_absolute_error, mean_squared_error"
      ],
      "metadata": {
        "id": "B5cEtjUe5Eq5"
      },
      "execution_count": 56,
      "outputs": []
    },
    {
      "cell_type": "code",
      "execution_count": 60,
      "metadata": {
        "id": "CgYrmj-2DLZf",
        "colab": {
          "base_uri": "https://localhost:8080/"
        },
        "outputId": "0710ff20-8a8a-4315-e338-c6a3f7ff0242"
      },
      "outputs": [
        {
          "output_type": "execute_result",
          "data": {
            "text/plain": [
              "14758.484920275308"
            ]
          },
          "metadata": {},
          "execution_count": 60
        }
      ],
      "source": [
        "mae = mean_absolute_error(y_test, y_pred)\n",
        "mae"
      ]
    },
    {
      "cell_type": "code",
      "execution_count": 61,
      "metadata": {
        "id": "rG58bfV6DLZf",
        "outputId": "a673e84a-276f-41a1-c23f-002493dc5a3e",
        "colab": {
          "base_uri": "https://localhost:8080/"
        }
      },
      "outputs": [
        {
          "output_type": "execute_result",
          "data": {
            "text/plain": [
              "21978.807798752507"
            ]
          },
          "metadata": {},
          "execution_count": 61
        }
      ],
      "source": [
        "sigma = np.sqrt(mean_squared_error(y_test, y_pred))\n",
        "sigma"
      ]
    },
    {
      "cell_type": "code",
      "source": [
        "mean = np.mean(df['SalePrice'])\n",
        "mean"
      ],
      "metadata": {
        "id": "KIkdmAZGGBEA",
        "outputId": "840f68c3-41c5-4e88-da53-7210f0e19e40",
        "colab": {
          "base_uri": "https://localhost:8080/"
        }
      },
      "execution_count": 62,
      "outputs": [
        {
          "output_type": "execute_result",
          "data": {
            "text/plain": [
              "180741.03427004797"
            ]
          },
          "metadata": {},
          "execution_count": 62
        }
      ]
    },
    {
      "cell_type": "code",
      "source": [
        "mae/mean"
      ],
      "metadata": {
        "id": "MG93hlyTGHSn",
        "outputId": "dd62472d-52ce-434d-d509-99d0be995177",
        "colab": {
          "base_uri": "https://localhost:8080/"
        }
      },
      "execution_count": 63,
      "outputs": [
        {
          "output_type": "execute_result",
          "data": {
            "text/plain": [
              "0.08165541920173162"
            ]
          },
          "metadata": {},
          "execution_count": 63
        }
      ]
    },
    {
      "cell_type": "code",
      "source": [
        "sigma/mean"
      ],
      "metadata": {
        "id": "SGAXCP8_GYyS",
        "outputId": "34b676e3-5007-4c6a-b0f6-433ef644c7b5",
        "colab": {
          "base_uri": "https://localhost:8080/"
        }
      },
      "execution_count": 64,
      "outputs": [
        {
          "output_type": "execute_result",
          "data": {
            "text/plain": [
              "0.12160386205333777"
            ]
          },
          "metadata": {},
          "execution_count": 64
        }
      ]
    }
  ],
  "metadata": {
    "kernelspec": {
      "display_name": "Python 3",
      "language": "python",
      "name": "python3"
    },
    "language_info": {
      "codemirror_mode": {
        "name": "ipython",
        "version": 3
      },
      "file_extension": ".py",
      "mimetype": "text/x-python",
      "name": "python",
      "nbconvert_exporter": "python",
      "pygments_lexer": "ipython3",
      "version": "3.7.6"
    },
    "colab": {
      "provenance": [],
      "collapsed_sections": [
        "bcrSApw-DLZY",
        "cqYYswspDLZa",
        "3zy-22UbDLZa",
        "aMACnR9cDLZb",
        "SEV1B_gnDLZc"
      ],
      "include_colab_link": true
    }
  },
  "nbformat": 4,
  "nbformat_minor": 0
}