{
  "cells": [
    {
      "cell_type": "markdown",
      "metadata": {
        "id": "view-in-github",
        "colab_type": "text"
      },
      "source": [
        "<a href=\"https://colab.research.google.com/github/hillelMerran/data-science/blob/main/Copie_de_02_Exercice_Projet_R%C3%A9gression_Lin%C3%A9aire.ipynb\" target=\"_parent\"><img src=\"https://colab.research.google.com/assets/colab-badge.svg\" alt=\"Open In Colab\"/></a>"
      ]
    },
    {
      "cell_type": "markdown",
      "metadata": {
        "id": "MWNXYcFlDLZW"
      },
      "source": [
        "# Linear regression project"
      ]
    },
    {
      "cell_type": "markdown",
      "metadata": {
        "id": "XcdQMo24DLZX"
      },
      "source": [
        "Little project using linear regression models in order to predict the price of habitations in the city of Aimes.\n",
        "\n",
        "The project is based on a database previously cleaned."
      ]
    },
    {
      "cell_type": "code",
      "execution_count": 1,
      "metadata": {
        "id": "W63b7DpVDLZX"
      },
      "outputs": [],
      "source": [
        "import numpy as np\n",
        "import pandas as pd"
      ]
    },
    {
      "cell_type": "markdown",
      "metadata": {
        "id": "bcrSApw-DLZY"
      },
      "source": [
        "### Import data"
      ]
    },
    {
      "cell_type": "code",
      "execution_count": 2,
      "metadata": {
        "id": "18hwMh2QDLZY"
      },
      "outputs": [],
      "source": [
        "url = 'https://raw.githubusercontent.com/moncoachdata/MasterClass_DS_ML/main/AMES_Final_DF.csv'\n",
        "df = pd.read_csv(url)"
      ]
    },
    {
      "cell_type": "code",
      "execution_count": 3,
      "metadata": {
        "id": "zdabsrRkDLZZ",
        "outputId": "6af52f2d-e967-4782-e670-bab77063ecfa",
        "colab": {
          "base_uri": "https://localhost:8080/",
          "height": 314
        }
      },
      "outputs": [
        {
          "output_type": "execute_result",
          "data": {
            "text/plain": [
              "   Lot Frontage  Lot Area  Overall Qual  Overall Cond  Year Built  \\\n",
              "0         141.0     31770             6             5        1960   \n",
              "1          80.0     11622             5             6        1961   \n",
              "2          81.0     14267             6             6        1958   \n",
              "3          93.0     11160             7             5        1968   \n",
              "4          74.0     13830             5             5        1997   \n",
              "\n",
              "   Year Remod/Add  Mas Vnr Area  BsmtFin SF 1  BsmtFin SF 2  Bsmt Unf SF  ...  \\\n",
              "0            1960         112.0         639.0           0.0        441.0  ...   \n",
              "1            1961           0.0         468.0         144.0        270.0  ...   \n",
              "2            1958         108.0         923.0           0.0        406.0  ...   \n",
              "3            1968           0.0        1065.0           0.0       1045.0  ...   \n",
              "4            1998           0.0         791.0           0.0        137.0  ...   \n",
              "\n",
              "   Sale Type_ConLw  Sale Type_New  Sale Type_Oth  Sale Type_VWD  \\\n",
              "0                0              0              0              0   \n",
              "1                0              0              0              0   \n",
              "2                0              0              0              0   \n",
              "3                0              0              0              0   \n",
              "4                0              0              0              0   \n",
              "\n",
              "   Sale Type_WD   Sale Condition_AdjLand  Sale Condition_Alloca  \\\n",
              "0              1                       0                      0   \n",
              "1              1                       0                      0   \n",
              "2              1                       0                      0   \n",
              "3              1                       0                      0   \n",
              "4              1                       0                      0   \n",
              "\n",
              "   Sale Condition_Family  Sale Condition_Normal  Sale Condition_Partial  \n",
              "0                      0                      1                       0  \n",
              "1                      0                      1                       0  \n",
              "2                      0                      1                       0  \n",
              "3                      0                      1                       0  \n",
              "4                      0                      1                       0  \n",
              "\n",
              "[5 rows x 274 columns]"
            ],
            "text/html": [
              "\n",
              "  <div id=\"df-3a0322f4-e163-4b28-9993-cdeced43c6e3\">\n",
              "    <div class=\"colab-df-container\">\n",
              "      <div>\n",
              "<style scoped>\n",
              "    .dataframe tbody tr th:only-of-type {\n",
              "        vertical-align: middle;\n",
              "    }\n",
              "\n",
              "    .dataframe tbody tr th {\n",
              "        vertical-align: top;\n",
              "    }\n",
              "\n",
              "    .dataframe thead th {\n",
              "        text-align: right;\n",
              "    }\n",
              "</style>\n",
              "<table border=\"1\" class=\"dataframe\">\n",
              "  <thead>\n",
              "    <tr style=\"text-align: right;\">\n",
              "      <th></th>\n",
              "      <th>Lot Frontage</th>\n",
              "      <th>Lot Area</th>\n",
              "      <th>Overall Qual</th>\n",
              "      <th>Overall Cond</th>\n",
              "      <th>Year Built</th>\n",
              "      <th>Year Remod/Add</th>\n",
              "      <th>Mas Vnr Area</th>\n",
              "      <th>BsmtFin SF 1</th>\n",
              "      <th>BsmtFin SF 2</th>\n",
              "      <th>Bsmt Unf SF</th>\n",
              "      <th>...</th>\n",
              "      <th>Sale Type_ConLw</th>\n",
              "      <th>Sale Type_New</th>\n",
              "      <th>Sale Type_Oth</th>\n",
              "      <th>Sale Type_VWD</th>\n",
              "      <th>Sale Type_WD</th>\n",
              "      <th>Sale Condition_AdjLand</th>\n",
              "      <th>Sale Condition_Alloca</th>\n",
              "      <th>Sale Condition_Family</th>\n",
              "      <th>Sale Condition_Normal</th>\n",
              "      <th>Sale Condition_Partial</th>\n",
              "    </tr>\n",
              "  </thead>\n",
              "  <tbody>\n",
              "    <tr>\n",
              "      <th>0</th>\n",
              "      <td>141.0</td>\n",
              "      <td>31770</td>\n",
              "      <td>6</td>\n",
              "      <td>5</td>\n",
              "      <td>1960</td>\n",
              "      <td>1960</td>\n",
              "      <td>112.0</td>\n",
              "      <td>639.0</td>\n",
              "      <td>0.0</td>\n",
              "      <td>441.0</td>\n",
              "      <td>...</td>\n",
              "      <td>0</td>\n",
              "      <td>0</td>\n",
              "      <td>0</td>\n",
              "      <td>0</td>\n",
              "      <td>1</td>\n",
              "      <td>0</td>\n",
              "      <td>0</td>\n",
              "      <td>0</td>\n",
              "      <td>1</td>\n",
              "      <td>0</td>\n",
              "    </tr>\n",
              "    <tr>\n",
              "      <th>1</th>\n",
              "      <td>80.0</td>\n",
              "      <td>11622</td>\n",
              "      <td>5</td>\n",
              "      <td>6</td>\n",
              "      <td>1961</td>\n",
              "      <td>1961</td>\n",
              "      <td>0.0</td>\n",
              "      <td>468.0</td>\n",
              "      <td>144.0</td>\n",
              "      <td>270.0</td>\n",
              "      <td>...</td>\n",
              "      <td>0</td>\n",
              "      <td>0</td>\n",
              "      <td>0</td>\n",
              "      <td>0</td>\n",
              "      <td>1</td>\n",
              "      <td>0</td>\n",
              "      <td>0</td>\n",
              "      <td>0</td>\n",
              "      <td>1</td>\n",
              "      <td>0</td>\n",
              "    </tr>\n",
              "    <tr>\n",
              "      <th>2</th>\n",
              "      <td>81.0</td>\n",
              "      <td>14267</td>\n",
              "      <td>6</td>\n",
              "      <td>6</td>\n",
              "      <td>1958</td>\n",
              "      <td>1958</td>\n",
              "      <td>108.0</td>\n",
              "      <td>923.0</td>\n",
              "      <td>0.0</td>\n",
              "      <td>406.0</td>\n",
              "      <td>...</td>\n",
              "      <td>0</td>\n",
              "      <td>0</td>\n",
              "      <td>0</td>\n",
              "      <td>0</td>\n",
              "      <td>1</td>\n",
              "      <td>0</td>\n",
              "      <td>0</td>\n",
              "      <td>0</td>\n",
              "      <td>1</td>\n",
              "      <td>0</td>\n",
              "    </tr>\n",
              "    <tr>\n",
              "      <th>3</th>\n",
              "      <td>93.0</td>\n",
              "      <td>11160</td>\n",
              "      <td>7</td>\n",
              "      <td>5</td>\n",
              "      <td>1968</td>\n",
              "      <td>1968</td>\n",
              "      <td>0.0</td>\n",
              "      <td>1065.0</td>\n",
              "      <td>0.0</td>\n",
              "      <td>1045.0</td>\n",
              "      <td>...</td>\n",
              "      <td>0</td>\n",
              "      <td>0</td>\n",
              "      <td>0</td>\n",
              "      <td>0</td>\n",
              "      <td>1</td>\n",
              "      <td>0</td>\n",
              "      <td>0</td>\n",
              "      <td>0</td>\n",
              "      <td>1</td>\n",
              "      <td>0</td>\n",
              "    </tr>\n",
              "    <tr>\n",
              "      <th>4</th>\n",
              "      <td>74.0</td>\n",
              "      <td>13830</td>\n",
              "      <td>5</td>\n",
              "      <td>5</td>\n",
              "      <td>1997</td>\n",
              "      <td>1998</td>\n",
              "      <td>0.0</td>\n",
              "      <td>791.0</td>\n",
              "      <td>0.0</td>\n",
              "      <td>137.0</td>\n",
              "      <td>...</td>\n",
              "      <td>0</td>\n",
              "      <td>0</td>\n",
              "      <td>0</td>\n",
              "      <td>0</td>\n",
              "      <td>1</td>\n",
              "      <td>0</td>\n",
              "      <td>0</td>\n",
              "      <td>0</td>\n",
              "      <td>1</td>\n",
              "      <td>0</td>\n",
              "    </tr>\n",
              "  </tbody>\n",
              "</table>\n",
              "<p>5 rows × 274 columns</p>\n",
              "</div>\n",
              "      <button class=\"colab-df-convert\" onclick=\"convertToInteractive('df-3a0322f4-e163-4b28-9993-cdeced43c6e3')\"\n",
              "              title=\"Convert this dataframe to an interactive table.\"\n",
              "              style=\"display:none;\">\n",
              "        \n",
              "  <svg xmlns=\"http://www.w3.org/2000/svg\" height=\"24px\"viewBox=\"0 0 24 24\"\n",
              "       width=\"24px\">\n",
              "    <path d=\"M0 0h24v24H0V0z\" fill=\"none\"/>\n",
              "    <path d=\"M18.56 5.44l.94 2.06.94-2.06 2.06-.94-2.06-.94-.94-2.06-.94 2.06-2.06.94zm-11 1L8.5 8.5l.94-2.06 2.06-.94-2.06-.94L8.5 2.5l-.94 2.06-2.06.94zm10 10l.94 2.06.94-2.06 2.06-.94-2.06-.94-.94-2.06-.94 2.06-2.06.94z\"/><path d=\"M17.41 7.96l-1.37-1.37c-.4-.4-.92-.59-1.43-.59-.52 0-1.04.2-1.43.59L10.3 9.45l-7.72 7.72c-.78.78-.78 2.05 0 2.83L4 21.41c.39.39.9.59 1.41.59.51 0 1.02-.2 1.41-.59l7.78-7.78 2.81-2.81c.8-.78.8-2.07 0-2.86zM5.41 20L4 18.59l7.72-7.72 1.47 1.35L5.41 20z\"/>\n",
              "  </svg>\n",
              "      </button>\n",
              "      \n",
              "  <style>\n",
              "    .colab-df-container {\n",
              "      display:flex;\n",
              "      flex-wrap:wrap;\n",
              "      gap: 12px;\n",
              "    }\n",
              "\n",
              "    .colab-df-convert {\n",
              "      background-color: #E8F0FE;\n",
              "      border: none;\n",
              "      border-radius: 50%;\n",
              "      cursor: pointer;\n",
              "      display: none;\n",
              "      fill: #1967D2;\n",
              "      height: 32px;\n",
              "      padding: 0 0 0 0;\n",
              "      width: 32px;\n",
              "    }\n",
              "\n",
              "    .colab-df-convert:hover {\n",
              "      background-color: #E2EBFA;\n",
              "      box-shadow: 0px 1px 2px rgba(60, 64, 67, 0.3), 0px 1px 3px 1px rgba(60, 64, 67, 0.15);\n",
              "      fill: #174EA6;\n",
              "    }\n",
              "\n",
              "    [theme=dark] .colab-df-convert {\n",
              "      background-color: #3B4455;\n",
              "      fill: #D2E3FC;\n",
              "    }\n",
              "\n",
              "    [theme=dark] .colab-df-convert:hover {\n",
              "      background-color: #434B5C;\n",
              "      box-shadow: 0px 1px 3px 1px rgba(0, 0, 0, 0.15);\n",
              "      filter: drop-shadow(0px 1px 2px rgba(0, 0, 0, 0.3));\n",
              "      fill: #FFFFFF;\n",
              "    }\n",
              "  </style>\n",
              "\n",
              "      <script>\n",
              "        const buttonEl =\n",
              "          document.querySelector('#df-3a0322f4-e163-4b28-9993-cdeced43c6e3 button.colab-df-convert');\n",
              "        buttonEl.style.display =\n",
              "          google.colab.kernel.accessAllowed ? 'block' : 'none';\n",
              "\n",
              "        async function convertToInteractive(key) {\n",
              "          const element = document.querySelector('#df-3a0322f4-e163-4b28-9993-cdeced43c6e3');\n",
              "          const dataTable =\n",
              "            await google.colab.kernel.invokeFunction('convertToInteractive',\n",
              "                                                     [key], {});\n",
              "          if (!dataTable) return;\n",
              "\n",
              "          const docLinkHtml = 'Like what you see? Visit the ' +\n",
              "            '<a target=\"_blank\" href=https://colab.research.google.com/notebooks/data_table.ipynb>data table notebook</a>'\n",
              "            + ' to learn more about interactive tables.';\n",
              "          element.innerHTML = '';\n",
              "          dataTable['output_type'] = 'display_data';\n",
              "          await google.colab.output.renderOutput(dataTable, element);\n",
              "          const docLink = document.createElement('div');\n",
              "          docLink.innerHTML = docLinkHtml;\n",
              "          element.appendChild(docLink);\n",
              "        }\n",
              "      </script>\n",
              "    </div>\n",
              "  </div>\n",
              "  "
            ]
          },
          "metadata": {},
          "execution_count": 3
        }
      ],
      "source": [
        "df.head()"
      ]
    },
    {
      "cell_type": "code",
      "execution_count": 4,
      "metadata": {
        "id": "1PuEc6sKDLZZ",
        "outputId": "35e28a35-fd62-4b62-a611-31ec243a8fe2",
        "colab": {
          "base_uri": "https://localhost:8080/"
        }
      },
      "outputs": [
        {
          "output_type": "stream",
          "name": "stdout",
          "text": [
            "<class 'pandas.core.frame.DataFrame'>\n",
            "RangeIndex: 2925 entries, 0 to 2924\n",
            "Columns: 274 entries, Lot Frontage to Sale Condition_Partial\n",
            "dtypes: float64(11), int64(263)\n",
            "memory usage: 6.1 MB\n"
          ]
        }
      ],
      "source": [
        "df.info()"
      ]
    },
    {
      "cell_type": "markdown",
      "metadata": {
        "id": "cqYYswspDLZa"
      },
      "source": [
        "### Defining features X and label y\n",
        "The label is the **'SalePrice'** column. Split the data into features and label."
      ]
    },
    {
      "cell_type": "code",
      "execution_count": 5,
      "metadata": {
        "id": "jACKqsXKDLZa"
      },
      "outputs": [],
      "source": [
        "X = df.drop('SalePrice', axis=1)\n",
        "y = df['SalePrice']"
      ]
    },
    {
      "cell_type": "markdown",
      "metadata": {
        "id": "3zy-22UbDLZa"
      },
      "source": [
        "### Split data into train and test sets"
      ]
    },
    {
      "cell_type": "code",
      "execution_count": 6,
      "metadata": {
        "id": "ux-McY6ADLZb"
      },
      "outputs": [],
      "source": [
        "from sklearn.model_selection import train_test_split"
      ]
    },
    {
      "cell_type": "code",
      "execution_count": 7,
      "metadata": {
        "id": "bJV2OKU-DLZb"
      },
      "outputs": [],
      "source": [
        "X_train, X_test, y_train, y_test = train_test_split(X, y, test_size=0.1, random_state=101)"
      ]
    },
    {
      "cell_type": "markdown",
      "metadata": {
        "id": "aMACnR9cDLZb"
      },
      "source": [
        "### Scaling the features\n",
        "Scaling to standard distribution to improve perfomances of the model."
      ]
    },
    {
      "cell_type": "code",
      "execution_count": 8,
      "metadata": {
        "id": "ehx7bfMqDLZb"
      },
      "outputs": [],
      "source": [
        "from sklearn.preprocessing import StandardScaler"
      ]
    },
    {
      "cell_type": "code",
      "execution_count": 9,
      "metadata": {
        "id": "G5WpJCX5DLZc",
        "colab": {
          "base_uri": "https://localhost:8080/"
        },
        "outputId": "3b344f83-887d-4658-a8bc-fe12391b09c7"
      },
      "outputs": [
        {
          "output_type": "execute_result",
          "data": {
            "text/plain": [
              "StandardScaler()"
            ]
          },
          "metadata": {},
          "execution_count": 9
        }
      ],
      "source": [
        "scaler = StandardScaler()\n",
        "scaler.fit(X_train)"
      ]
    },
    {
      "cell_type": "code",
      "execution_count": 10,
      "metadata": {
        "id": "oL1kBavjDLZc"
      },
      "outputs": [],
      "source": [
        "X_train = scaler.transform(X_train)\n",
        "X_test = scaler.transform(X_test)"
      ]
    },
    {
      "cell_type": "markdown",
      "metadata": {
        "id": "SEV1B_gnDLZc"
      },
      "source": [
        "### Creation of the model\n",
        "Use of ElasticNet linear model."
      ]
    },
    {
      "cell_type": "code",
      "execution_count": 11,
      "metadata": {
        "id": "yoeKpVr9DLZc"
      },
      "outputs": [],
      "source": [
        "from sklearn.linear_model import ElasticNet"
      ]
    },
    {
      "cell_type": "code",
      "execution_count": 12,
      "metadata": {
        "id": "TBVxmV1EDLZc"
      },
      "outputs": [],
      "source": [
        "model = ElasticNet(max_iter=10000)"
      ]
    },
    {
      "cell_type": "markdown",
      "metadata": {
        "id": "PawRyUqGDLZc"
      },
      "source": [
        "Defining a grid search for the hyper parameters."
      ]
    },
    {
      "cell_type": "code",
      "execution_count": 13,
      "metadata": {
        "id": "x67ex9YeDLZd"
      },
      "outputs": [],
      "source": [
        "param_grid = {'alpha': [.1, 1, 10, 100],\n",
        "              'l1_ratio': [.1, .5, .9, .99, 1]}"
      ]
    },
    {
      "cell_type": "code",
      "execution_count": 14,
      "metadata": {
        "id": "uGgojW8-DLZd"
      },
      "outputs": [],
      "source": [
        "from sklearn.model_selection import GridSearchCV"
      ]
    },
    {
      "cell_type": "code",
      "execution_count": 15,
      "metadata": {
        "id": "NMMvHGIjDLZd"
      },
      "outputs": [],
      "source": [
        "grid_model = GridSearchCV(model, param_grid,scoring=\"neg_root_mean_squared_error\",cv=5,verbose=2.1)"
      ]
    },
    {
      "cell_type": "markdown",
      "source": [
        "Training the model."
      ],
      "metadata": {
        "id": "5icpYDXE08Lb"
      }
    },
    {
      "cell_type": "code",
      "execution_count": 16,
      "metadata": {
        "id": "0X_Ooko6DLZe",
        "outputId": "d3608a15-e62d-493b-b043-0b5864f928d9",
        "colab": {
          "base_uri": "https://localhost:8080/"
        }
      },
      "outputs": [
        {
          "output_type": "stream",
          "name": "stdout",
          "text": [
            "Fitting 5 folds for each of 20 candidates, totalling 100 fits\n",
            "[CV 1/5] END ......alpha=0.1, l1_ratio=0.1;, score=-26370.306 total time=   0.3s\n",
            "[CV 2/5] END ......alpha=0.1, l1_ratio=0.1;, score=-25092.674 total time=   0.3s\n",
            "[CV 3/5] END ......alpha=0.1, l1_ratio=0.1;, score=-19547.023 total time=   0.3s\n",
            "[CV 4/5] END ......alpha=0.1, l1_ratio=0.1;, score=-20270.746 total time=   0.3s\n",
            "[CV 5/5] END ......alpha=0.1, l1_ratio=0.1;, score=-24354.042 total time=   0.3s\n",
            "[CV 1/5] END ......alpha=0.1, l1_ratio=0.5;, score=-26119.910 total time=   0.4s\n",
            "[CV 2/5] END ......alpha=0.1, l1_ratio=0.5;, score=-24626.317 total time=   0.4s\n",
            "[CV 3/5] END ......alpha=0.1, l1_ratio=0.5;, score=-19514.075 total time=   0.4s\n",
            "[CV 4/5] END ......alpha=0.1, l1_ratio=0.5;, score=-20178.717 total time=   0.3s\n",
            "[CV 5/5] END ......alpha=0.1, l1_ratio=0.5;, score=-24249.921 total time=   0.4s\n",
            "[CV 1/5] END ......alpha=0.1, l1_ratio=0.9;, score=-25831.009 total time=   1.8s\n",
            "[CV 2/5] END ......alpha=0.1, l1_ratio=0.9;, score=-24252.232 total time=   2.4s\n",
            "[CV 3/5] END ......alpha=0.1, l1_ratio=0.9;, score=-19545.547 total time=   2.4s\n",
            "[CV 4/5] END ......alpha=0.1, l1_ratio=0.9;, score=-20239.291 total time=   2.6s\n",
            "[CV 5/5] END ......alpha=0.1, l1_ratio=0.9;, score=-24253.870 total time=   2.4s\n",
            "[CV 1/5] END .....alpha=0.1, l1_ratio=0.99;, score=-25945.252 total time=   9.4s\n",
            "[CV 2/5] END .....alpha=0.1, l1_ratio=0.99;, score=-24418.263 total time=   4.9s\n",
            "[CV 3/5] END .....alpha=0.1, l1_ratio=0.99;, score=-19556.143 total time=   4.8s\n",
            "[CV 4/5] END .....alpha=0.1, l1_ratio=0.99;, score=-20404.060 total time=   5.7s\n",
            "[CV 5/5] END .....alpha=0.1, l1_ratio=0.99;, score=-24345.111 total time=   4.7s\n"
          ]
        },
        {
          "output_type": "stream",
          "name": "stderr",
          "text": [
            "/usr/local/lib/python3.7/dist-packages/sklearn/linear_model/_coordinate_descent.py:648: ConvergenceWarning: Objective did not converge. You might want to increase the number of iterations, check the scale of the features or consider increasing regularisation. Duality gap: 4.635e+10, tolerance: 1.355e+09\n",
            "  coef_, l1_reg, l2_reg, X, y, max_iter, tol, rng, random, positive\n"
          ]
        },
        {
          "output_type": "stream",
          "name": "stdout",
          "text": [
            "[CV 1/5] END ........alpha=0.1, l1_ratio=1;, score=-26102.430 total time=   7.2s\n"
          ]
        },
        {
          "output_type": "stream",
          "name": "stderr",
          "text": [
            "/usr/local/lib/python3.7/dist-packages/sklearn/linear_model/_coordinate_descent.py:648: ConvergenceWarning: Objective did not converge. You might want to increase the number of iterations, check the scale of the features or consider increasing regularisation. Duality gap: 7.907e+10, tolerance: 1.308e+09\n",
            "  coef_, l1_reg, l2_reg, X, y, max_iter, tol, rng, random, positive\n"
          ]
        },
        {
          "output_type": "stream",
          "name": "stdout",
          "text": [
            "[CV 2/5] END ........alpha=0.1, l1_ratio=1;, score=-24555.356 total time=   7.3s\n"
          ]
        },
        {
          "output_type": "stream",
          "name": "stderr",
          "text": [
            "/usr/local/lib/python3.7/dist-packages/sklearn/linear_model/_coordinate_descent.py:648: ConvergenceWarning: Objective did not converge. You might want to increase the number of iterations, check the scale of the features or consider increasing regularisation. Duality gap: 4.810e+10, tolerance: 1.415e+09\n",
            "  coef_, l1_reg, l2_reg, X, y, max_iter, tol, rng, random, positive\n"
          ]
        },
        {
          "output_type": "stream",
          "name": "stdout",
          "text": [
            "[CV 3/5] END ........alpha=0.1, l1_ratio=1;, score=-19545.536 total time=   7.0s\n"
          ]
        },
        {
          "output_type": "stream",
          "name": "stderr",
          "text": [
            "/usr/local/lib/python3.7/dist-packages/sklearn/linear_model/_coordinate_descent.py:648: ConvergenceWarning: Objective did not converge. You might want to increase the number of iterations, check the scale of the features or consider increasing regularisation. Duality gap: 5.078e+10, tolerance: 1.438e+09\n",
            "  coef_, l1_reg, l2_reg, X, y, max_iter, tol, rng, random, positive\n"
          ]
        },
        {
          "output_type": "stream",
          "name": "stdout",
          "text": [
            "[CV 4/5] END ........alpha=0.1, l1_ratio=1;, score=-22011.821 total time=   7.2s\n"
          ]
        },
        {
          "output_type": "stream",
          "name": "stderr",
          "text": [
            "/usr/local/lib/python3.7/dist-packages/sklearn/linear_model/_coordinate_descent.py:648: ConvergenceWarning: Objective did not converge. You might want to increase the number of iterations, check the scale of the features or consider increasing regularisation. Duality gap: 3.763e+10, tolerance: 1.346e+09\n",
            "  coef_, l1_reg, l2_reg, X, y, max_iter, tol, rng, random, positive\n"
          ]
        },
        {
          "output_type": "stream",
          "name": "stdout",
          "text": [
            "[CV 5/5] END ........alpha=0.1, l1_ratio=1;, score=-24575.137 total time=   7.3s\n",
            "[CV 1/5] END ........alpha=1, l1_ratio=0.1;, score=-29865.127 total time=   0.1s\n",
            "[CV 2/5] END ........alpha=1, l1_ratio=0.1;, score=-31400.860 total time=   0.1s\n",
            "[CV 3/5] END ........alpha=1, l1_ratio=0.1;, score=-21682.280 total time=   0.1s\n",
            "[CV 4/5] END ........alpha=1, l1_ratio=0.1;, score=-22873.626 total time=   0.1s\n",
            "[CV 5/5] END ........alpha=1, l1_ratio=0.1;, score=-27855.211 total time=   0.1s\n",
            "[CV 1/5] END ........alpha=1, l1_ratio=0.5;, score=-28278.285 total time=   0.1s\n",
            "[CV 2/5] END ........alpha=1, l1_ratio=0.5;, score=-28807.430 total time=   0.1s\n",
            "[CV 3/5] END ........alpha=1, l1_ratio=0.5;, score=-20438.614 total time=   0.1s\n",
            "[CV 4/5] END ........alpha=1, l1_ratio=0.5;, score=-21583.840 total time=   0.1s\n",
            "[CV 5/5] END ........alpha=1, l1_ratio=0.5;, score=-26136.145 total time=   0.1s\n",
            "[CV 1/5] END ........alpha=1, l1_ratio=0.9;, score=-26425.299 total time=   0.2s\n",
            "[CV 2/5] END ........alpha=1, l1_ratio=0.9;, score=-25206.672 total time=   0.2s\n",
            "[CV 3/5] END ........alpha=1, l1_ratio=0.9;, score=-19556.146 total time=   0.2s\n",
            "[CV 4/5] END ........alpha=1, l1_ratio=0.9;, score=-20294.990 total time=   0.2s\n",
            "[CV 5/5] END ........alpha=1, l1_ratio=0.9;, score=-24383.922 total time=   0.1s\n",
            "[CV 1/5] END .......alpha=1, l1_ratio=0.99;, score=-25825.603 total time=   0.5s\n",
            "[CV 2/5] END .......alpha=1, l1_ratio=0.99;, score=-24246.686 total time=   0.5s\n",
            "[CV 3/5] END .......alpha=1, l1_ratio=0.99;, score=-19542.322 total time=   0.6s\n",
            "[CV 4/5] END .......alpha=1, l1_ratio=0.99;, score=-20232.914 total time=   0.6s\n",
            "[CV 5/5] END .......alpha=1, l1_ratio=0.99;, score=-24249.657 total time=   0.5s\n"
          ]
        },
        {
          "output_type": "stream",
          "name": "stderr",
          "text": [
            "/usr/local/lib/python3.7/dist-packages/sklearn/linear_model/_coordinate_descent.py:648: ConvergenceWarning: Objective did not converge. You might want to increase the number of iterations, check the scale of the features or consider increasing regularisation. Duality gap: 8.367e+09, tolerance: 1.355e+09\n",
            "  coef_, l1_reg, l2_reg, X, y, max_iter, tol, rng, random, positive\n"
          ]
        },
        {
          "output_type": "stream",
          "name": "stdout",
          "text": [
            "[CV 1/5] END ..........alpha=1, l1_ratio=1;, score=-26064.812 total time=   7.2s\n"
          ]
        },
        {
          "output_type": "stream",
          "name": "stderr",
          "text": [
            "/usr/local/lib/python3.7/dist-packages/sklearn/linear_model/_coordinate_descent.py:648: ConvergenceWarning: Objective did not converge. You might want to increase the number of iterations, check the scale of the features or consider increasing regularisation. Duality gap: 3.153e+10, tolerance: 1.308e+09\n",
            "  coef_, l1_reg, l2_reg, X, y, max_iter, tol, rng, random, positive\n"
          ]
        },
        {
          "output_type": "stream",
          "name": "stdout",
          "text": [
            "[CV 2/5] END ..........alpha=1, l1_ratio=1;, score=-24525.603 total time=   7.3s\n"
          ]
        },
        {
          "output_type": "stream",
          "name": "stderr",
          "text": [
            "/usr/local/lib/python3.7/dist-packages/sklearn/linear_model/_coordinate_descent.py:648: ConvergenceWarning: Objective did not converge. You might want to increase the number of iterations, check the scale of the features or consider increasing regularisation. Duality gap: 1.019e+10, tolerance: 1.415e+09\n",
            "  coef_, l1_reg, l2_reg, X, y, max_iter, tol, rng, random, positive\n"
          ]
        },
        {
          "output_type": "stream",
          "name": "stdout",
          "text": [
            "[CV 3/5] END ..........alpha=1, l1_ratio=1;, score=-19532.721 total time=   8.5s\n"
          ]
        },
        {
          "output_type": "stream",
          "name": "stderr",
          "text": [
            "/usr/local/lib/python3.7/dist-packages/sklearn/linear_model/_coordinate_descent.py:648: ConvergenceWarning: Objective did not converge. You might want to increase the number of iterations, check the scale of the features or consider increasing regularisation. Duality gap: 3.873e+09, tolerance: 1.438e+09\n",
            "  coef_, l1_reg, l2_reg, X, y, max_iter, tol, rng, random, positive\n"
          ]
        },
        {
          "output_type": "stream",
          "name": "stdout",
          "text": [
            "[CV 4/5] END ..........alpha=1, l1_ratio=1;, score=-21036.894 total time=   7.1s\n",
            "[CV 5/5] END ..........alpha=1, l1_ratio=1;, score=-24504.037 total time=   6.3s\n",
            "[CV 1/5] END .......alpha=10, l1_ratio=0.1;, score=-46862.020 total time=   0.0s\n",
            "[CV 2/5] END .......alpha=10, l1_ratio=0.1;, score=-51776.213 total time=   0.0s\n",
            "[CV 3/5] END .......alpha=10, l1_ratio=0.1;, score=-38901.793 total time=   0.0s\n",
            "[CV 4/5] END .......alpha=10, l1_ratio=0.1;, score=-37955.457 total time=   0.0s\n",
            "[CV 5/5] END .......alpha=10, l1_ratio=0.1;, score=-46460.595 total time=   0.0s\n",
            "[CV 1/5] END .......alpha=10, l1_ratio=0.5;, score=-40482.019 total time=   0.0s\n",
            "[CV 2/5] END .......alpha=10, l1_ratio=0.5;, score=-44814.311 total time=   0.0s\n",
            "[CV 3/5] END .......alpha=10, l1_ratio=0.5;, score=-32282.016 total time=   0.0s\n",
            "[CV 4/5] END .......alpha=10, l1_ratio=0.5;, score=-32133.651 total time=   0.0s\n",
            "[CV 5/5] END .......alpha=10, l1_ratio=0.5;, score=-39509.145 total time=   0.0s\n",
            "[CV 1/5] END .......alpha=10, l1_ratio=0.9;, score=-30238.660 total time=   0.0s\n",
            "[CV 2/5] END .......alpha=10, l1_ratio=0.9;, score=-31976.462 total time=   0.1s\n",
            "[CV 3/5] END .......alpha=10, l1_ratio=0.9;, score=-22012.294 total time=   0.1s\n",
            "[CV 4/5] END .......alpha=10, l1_ratio=0.9;, score=-23187.289 total time=   0.1s\n",
            "[CV 5/5] END .......alpha=10, l1_ratio=0.9;, score=-28261.028 total time=   0.0s\n",
            "[CV 1/5] END ......alpha=10, l1_ratio=0.99;, score=-26408.863 total time=   0.1s\n",
            "[CV 2/5] END ......alpha=10, l1_ratio=0.99;, score=-25212.349 total time=   0.1s\n",
            "[CV 3/5] END ......alpha=10, l1_ratio=0.99;, score=-19538.313 total time=   0.1s\n",
            "[CV 4/5] END ......alpha=10, l1_ratio=0.99;, score=-20265.914 total time=   0.1s\n",
            "[CV 5/5] END ......alpha=10, l1_ratio=0.99;, score=-24355.103 total time=   0.1s\n",
            "[CV 1/5] END .........alpha=10, l1_ratio=1;, score=-25836.592 total time=   1.7s\n",
            "[CV 2/5] END .........alpha=10, l1_ratio=1;, score=-24357.863 total time=   1.8s\n",
            "[CV 3/5] END .........alpha=10, l1_ratio=1;, score=-19517.602 total time=   2.0s\n",
            "[CV 4/5] END .........alpha=10, l1_ratio=1;, score=-20331.315 total time=   1.8s\n",
            "[CV 5/5] END .........alpha=10, l1_ratio=1;, score=-24287.177 total time=   2.0s\n",
            "[CV 1/5] END ......alpha=100, l1_ratio=0.1;, score=-73670.634 total time=   0.0s\n",
            "[CV 2/5] END ......alpha=100, l1_ratio=0.1;, score=-79019.255 total time=   0.0s\n",
            "[CV 3/5] END ......alpha=100, l1_ratio=0.1;, score=-66403.570 total time=   0.0s\n",
            "[CV 4/5] END ......alpha=100, l1_ratio=0.1;, score=-63716.118 total time=   0.0s\n",
            "[CV 5/5] END ......alpha=100, l1_ratio=0.1;, score=-74699.272 total time=   0.0s\n",
            "[CV 1/5] END ......alpha=100, l1_ratio=0.5;, score=-68399.387 total time=   0.0s\n",
            "[CV 2/5] END ......alpha=100, l1_ratio=0.5;, score=-73778.607 total time=   0.0s\n",
            "[CV 3/5] END ......alpha=100, l1_ratio=0.5;, score=-61027.451 total time=   0.0s\n",
            "[CV 4/5] END ......alpha=100, l1_ratio=0.5;, score=-58532.108 total time=   0.0s\n",
            "[CV 5/5] END ......alpha=100, l1_ratio=0.5;, score=-69257.749 total time=   0.0s\n",
            "[CV 1/5] END ......alpha=100, l1_ratio=0.9;, score=-48237.636 total time=   0.0s\n",
            "[CV 2/5] END ......alpha=100, l1_ratio=0.9;, score=-53239.883 total time=   0.0s\n",
            "[CV 3/5] END ......alpha=100, l1_ratio=0.9;, score=-40327.016 total time=   0.0s\n",
            "[CV 4/5] END ......alpha=100, l1_ratio=0.9;, score=-39228.324 total time=   0.0s\n",
            "[CV 5/5] END ......alpha=100, l1_ratio=0.9;, score=-47944.763 total time=   0.0s\n",
            "[CV 1/5] END .....alpha=100, l1_ratio=0.99;, score=-30304.782 total time=   0.0s\n",
            "[CV 2/5] END .....alpha=100, l1_ratio=0.99;, score=-32154.600 total time=   0.0s\n",
            "[CV 3/5] END .....alpha=100, l1_ratio=0.99;, score=-22103.989 total time=   0.0s\n",
            "[CV 4/5] END .....alpha=100, l1_ratio=0.99;, score=-23259.246 total time=   0.1s\n",
            "[CV 5/5] END .....alpha=100, l1_ratio=0.99;, score=-28303.238 total time=   0.0s\n",
            "[CV 1/5] END ........alpha=100, l1_ratio=1;, score=-25549.015 total time=   0.2s\n",
            "[CV 2/5] END ........alpha=100, l1_ratio=1;, score=-24030.032 total time=   0.3s\n",
            "[CV 3/5] END ........alpha=100, l1_ratio=1;, score=-19396.909 total time=   0.3s\n",
            "[CV 4/5] END ........alpha=100, l1_ratio=1;, score=-19876.232 total time=   0.2s\n",
            "[CV 5/5] END ........alpha=100, l1_ratio=1;, score=-23926.247 total time=   0.3s\n"
          ]
        },
        {
          "output_type": "execute_result",
          "data": {
            "text/plain": [
              "GridSearchCV(cv=5, estimator=ElasticNet(max_iter=10000),\n",
              "             param_grid={'alpha': [0.1, 1, 10, 100],\n",
              "                         'l1_ratio': [0.1, 0.5, 0.9, 0.99, 1]},\n",
              "             scoring='neg_root_mean_squared_error', verbose=2.1)"
            ]
          },
          "metadata": {},
          "execution_count": 16
        }
      ],
      "source": [
        "grid_model.fit(X_train, y_train)"
      ]
    },
    {
      "cell_type": "code",
      "execution_count": 17,
      "metadata": {
        "id": "7KuX0JeUDLZe",
        "outputId": "f8f4a4f9-31ce-49d0-9031-206a91e58b81",
        "colab": {
          "base_uri": "https://localhost:8080/"
        }
      },
      "outputs": [
        {
          "output_type": "execute_result",
          "data": {
            "text/plain": [
              "{'alpha': 100, 'l1_ratio': 1}"
            ]
          },
          "metadata": {},
          "execution_count": 17
        }
      ],
      "source": [
        "grid_model.best_params_"
      ]
    },
    {
      "cell_type": "markdown",
      "source": [
        "Adjusting hyper parameters."
      ],
      "metadata": {
        "id": "OHIwCEJd2xgY"
      }
    },
    {
      "cell_type": "code",
      "source": [
        "param_grid = {'alpha': [50, 100, 150, 200, 500, 1000],\n",
        "              'l1_ratio': [.99, .995, 1]}\n",
        "grid_model = GridSearchCV(model, param_grid,scoring=\"neg_root_mean_squared_error\",cv=5,verbose=2.1)\n",
        "grid_model.fit(X_train, y_train)"
      ],
      "metadata": {
        "colab": {
          "base_uri": "https://localhost:8080/"
        },
        "id": "KYYP-Lfh22Kv",
        "outputId": "f871d18c-9c74-4721-8222-b788255ca236"
      },
      "execution_count": 18,
      "outputs": [
        {
          "output_type": "stream",
          "name": "stdout",
          "text": [
            "Fitting 5 folds for each of 18 candidates, totalling 90 fits\n",
            "[CV 1/5] END ......alpha=50, l1_ratio=0.99;, score=-28302.333 total time=   0.1s\n",
            "[CV 2/5] END ......alpha=50, l1_ratio=0.99;, score=-28910.024 total time=   0.1s\n",
            "[CV 3/5] END ......alpha=50, l1_ratio=0.99;, score=-20455.448 total time=   0.1s\n",
            "[CV 4/5] END ......alpha=50, l1_ratio=0.99;, score=-21613.870 total time=   0.1s\n",
            "[CV 5/5] END ......alpha=50, l1_ratio=0.99;, score=-26123.092 total time=   0.1s\n",
            "[CV 1/5] END .....alpha=50, l1_ratio=0.995;, score=-27140.284 total time=   0.1s\n",
            "[CV 2/5] END .....alpha=50, l1_ratio=0.995;, score=-26821.275 total time=   0.1s\n",
            "[CV 3/5] END .....alpha=50, l1_ratio=0.995;, score=-19756.543 total time=   0.1s\n",
            "[CV 4/5] END .....alpha=50, l1_ratio=0.995;, score=-20721.757 total time=   0.1s\n",
            "[CV 5/5] END .....alpha=50, l1_ratio=0.995;, score=-24916.303 total time=   0.1s\n",
            "[CV 1/5] END .........alpha=50, l1_ratio=1;, score=-25562.366 total time=   0.4s\n",
            "[CV 2/5] END .........alpha=50, l1_ratio=1;, score=-24014.576 total time=   0.4s\n",
            "[CV 3/5] END .........alpha=50, l1_ratio=1;, score=-19510.894 total time=   0.5s\n",
            "[CV 4/5] END .........alpha=50, l1_ratio=1;, score=-20117.870 total time=   0.4s\n",
            "[CV 5/5] END .........alpha=50, l1_ratio=1;, score=-24095.646 total time=   0.5s\n",
            "[CV 1/5] END .....alpha=100, l1_ratio=0.99;, score=-30304.782 total time=   0.0s\n",
            "[CV 2/5] END .....alpha=100, l1_ratio=0.99;, score=-32154.600 total time=   0.0s\n",
            "[CV 3/5] END .....alpha=100, l1_ratio=0.99;, score=-22103.989 total time=   0.0s\n",
            "[CV 4/5] END .....alpha=100, l1_ratio=0.99;, score=-23259.246 total time=   0.0s\n",
            "[CV 5/5] END .....alpha=100, l1_ratio=0.99;, score=-28303.238 total time=   0.0s\n",
            "[CV 1/5] END ....alpha=100, l1_ratio=0.995;, score=-28335.953 total time=   0.1s\n",
            "[CV 2/5] END ....alpha=100, l1_ratio=0.995;, score=-29030.333 total time=   0.1s\n",
            "[CV 3/5] END ....alpha=100, l1_ratio=0.995;, score=-20481.019 total time=   0.1s\n",
            "[CV 4/5] END ....alpha=100, l1_ratio=0.995;, score=-21652.435 total time=   0.1s\n",
            "[CV 5/5] END ....alpha=100, l1_ratio=0.995;, score=-26116.810 total time=   0.1s\n",
            "[CV 1/5] END ........alpha=100, l1_ratio=1;, score=-25549.015 total time=   0.2s\n",
            "[CV 2/5] END ........alpha=100, l1_ratio=1;, score=-24030.032 total time=   0.3s\n",
            "[CV 3/5] END ........alpha=100, l1_ratio=1;, score=-19396.909 total time=   0.3s\n",
            "[CV 4/5] END ........alpha=100, l1_ratio=1;, score=-19876.232 total time=   0.2s\n",
            "[CV 5/5] END ........alpha=100, l1_ratio=1;, score=-23926.247 total time=   0.3s\n",
            "[CV 1/5] END .....alpha=150, l1_ratio=0.99;, score=-32061.688 total time=   0.0s\n",
            "[CV 2/5] END .....alpha=150, l1_ratio=0.99;, score=-34653.748 total time=   0.0s\n",
            "[CV 3/5] END .....alpha=150, l1_ratio=0.99;, score=-23764.420 total time=   0.0s\n",
            "[CV 4/5] END .....alpha=150, l1_ratio=0.99;, score=-24770.627 total time=   0.0s\n",
            "[CV 5/5] END .....alpha=150, l1_ratio=0.99;, score=-30239.461 total time=   0.0s\n",
            "[CV 1/5] END ....alpha=150, l1_ratio=0.995;, score=-29419.779 total time=   0.1s\n",
            "[CV 2/5] END ....alpha=150, l1_ratio=0.995;, score=-30828.253 total time=   0.0s\n",
            "[CV 3/5] END ....alpha=150, l1_ratio=0.995;, score=-21344.160 total time=   0.1s\n",
            "[CV 4/5] END ....alpha=150, l1_ratio=0.995;, score=-22519.985 total time=   0.0s\n",
            "[CV 5/5] END ....alpha=150, l1_ratio=0.995;, score=-27273.456 total time=   0.0s\n",
            "[CV 1/5] END ........alpha=150, l1_ratio=1;, score=-25610.188 total time=   0.2s\n",
            "[CV 2/5] END ........alpha=150, l1_ratio=1;, score=-24164.162 total time=   0.2s\n",
            "[CV 3/5] END ........alpha=150, l1_ratio=1;, score=-19382.276 total time=   0.2s\n",
            "[CV 4/5] END ........alpha=150, l1_ratio=1;, score=-19797.066 total time=   0.2s\n",
            "[CV 5/5] END ........alpha=150, l1_ratio=1;, score=-23792.069 total time=   0.2s\n",
            "[CV 1/5] END .....alpha=200, l1_ratio=0.99;, score=-33653.073 total time=   0.0s\n",
            "[CV 2/5] END .....alpha=200, l1_ratio=0.99;, score=-36748.920 total time=   0.0s\n",
            "[CV 3/5] END .....alpha=200, l1_ratio=0.99;, score=-25338.447 total time=   0.0s\n",
            "[CV 4/5] END .....alpha=200, l1_ratio=0.99;, score=-26152.654 total time=   0.0s\n",
            "[CV 5/5] END .....alpha=200, l1_ratio=0.99;, score=-31985.769 total time=   0.0s\n",
            "[CV 1/5] END ....alpha=200, l1_ratio=0.995;, score=-30385.091 total time=   0.0s\n",
            "[CV 2/5] END ....alpha=200, l1_ratio=0.995;, score=-32339.256 total time=   0.0s\n",
            "[CV 3/5] END ....alpha=200, l1_ratio=0.995;, score=-22215.536 total time=   0.0s\n",
            "[CV 4/5] END ....alpha=200, l1_ratio=0.995;, score=-23362.443 total time=   0.0s\n",
            "[CV 5/5] END ....alpha=200, l1_ratio=0.995;, score=-28356.304 total time=   0.0s\n",
            "[CV 1/5] END ........alpha=200, l1_ratio=1;, score=-25644.337 total time=   0.1s\n",
            "[CV 2/5] END ........alpha=200, l1_ratio=1;, score=-24310.625 total time=   0.2s\n",
            "[CV 3/5] END ........alpha=200, l1_ratio=1;, score=-19401.609 total time=   0.2s\n",
            "[CV 4/5] END ........alpha=200, l1_ratio=1;, score=-19817.478 total time=   0.1s\n",
            "[CV 5/5] END ........alpha=200, l1_ratio=1;, score=-23699.455 total time=   0.2s\n",
            "[CV 1/5] END .....alpha=500, l1_ratio=0.99;, score=-41029.993 total time=   0.0s\n",
            "[CV 2/5] END .....alpha=500, l1_ratio=0.99;, score=-45500.608 total time=   0.0s\n",
            "[CV 3/5] END .....alpha=500, l1_ratio=0.99;, score=-32886.868 total time=   0.0s\n",
            "[CV 4/5] END .....alpha=500, l1_ratio=0.99;, score=-32652.042 total time=   0.0s\n",
            "[CV 5/5] END .....alpha=500, l1_ratio=0.99;, score=-40074.909 total time=   0.0s\n",
            "[CV 1/5] END ....alpha=500, l1_ratio=0.995;, score=-35394.779 total time=   0.0s\n",
            "[CV 2/5] END ....alpha=500, l1_ratio=0.995;, score=-38974.532 total time=   0.0s\n",
            "[CV 3/5] END ....alpha=500, l1_ratio=0.995;, score=-27134.711 total time=   0.0s\n",
            "[CV 4/5] END ....alpha=500, l1_ratio=0.995;, score=-27708.554 total time=   0.0s\n",
            "[CV 5/5] END ....alpha=500, l1_ratio=0.995;, score=-33872.071 total time=   0.0s\n",
            "[CV 1/5] END ........alpha=500, l1_ratio=1;, score=-26077.938 total time=   0.1s\n",
            "[CV 2/5] END ........alpha=500, l1_ratio=1;, score=-25170.726 total time=   0.1s\n",
            "[CV 3/5] END ........alpha=500, l1_ratio=1;, score=-19548.463 total time=   0.1s\n",
            "[CV 4/5] END ........alpha=500, l1_ratio=1;, score=-20205.777 total time=   0.1s\n",
            "[CV 5/5] END ........alpha=500, l1_ratio=1;, score=-23505.579 total time=   0.1s\n",
            "[CV 1/5] END ....alpha=1000, l1_ratio=0.99;, score=-49171.740 total time=   0.0s\n",
            "[CV 2/5] END ....alpha=1000, l1_ratio=0.99;, score=-54283.201 total time=   0.0s\n",
            "[CV 3/5] END ....alpha=1000, l1_ratio=0.99;, score=-41293.430 total time=   0.0s\n",
            "[CV 4/5] END ....alpha=1000, l1_ratio=0.99;, score=-40084.103 total time=   0.0s\n",
            "[CV 5/5] END ....alpha=1000, l1_ratio=0.99;, score=-48926.083 total time=   0.0s\n",
            "[CV 1/5] END ...alpha=1000, l1_ratio=0.995;, score=-41626.752 total time=   0.0s\n",
            "[CV 2/5] END ...alpha=1000, l1_ratio=0.995;, score=-46212.198 total time=   0.0s\n",
            "[CV 3/5] END ...alpha=1000, l1_ratio=0.995;, score=-33496.584 total time=   0.0s\n",
            "[CV 4/5] END ...alpha=1000, l1_ratio=0.995;, score=-33183.840 total time=   0.0s\n",
            "[CV 5/5] END ...alpha=1000, l1_ratio=0.995;, score=-40677.572 total time=   0.0s\n",
            "[CV 1/5] END .......alpha=1000, l1_ratio=1;, score=-27413.832 total time=   0.0s\n",
            "[CV 2/5] END .......alpha=1000, l1_ratio=1;, score=-26593.206 total time=   0.0s\n",
            "[CV 3/5] END .......alpha=1000, l1_ratio=1;, score=-20381.064 total time=   0.1s\n",
            "[CV 4/5] END .......alpha=1000, l1_ratio=1;, score=-21272.060 total time=   0.0s\n",
            "[CV 5/5] END .......alpha=1000, l1_ratio=1;, score=-24101.715 total time=   0.0s\n"
          ]
        },
        {
          "output_type": "execute_result",
          "data": {
            "text/plain": [
              "GridSearchCV(cv=5, estimator=ElasticNet(max_iter=10000),\n",
              "             param_grid={'alpha': [50, 100, 150, 200, 500, 1000],\n",
              "                         'l1_ratio': [0.99, 0.995, 1]},\n",
              "             scoring='neg_root_mean_squared_error', verbose=2.1)"
            ]
          },
          "metadata": {},
          "execution_count": 18
        }
      ]
    },
    {
      "cell_type": "code",
      "source": [
        "grid_model.best_params_"
      ],
      "metadata": {
        "colab": {
          "base_uri": "https://localhost:8080/"
        },
        "id": "V3UAaJAv3HjR",
        "outputId": "6dd11fe3-bf51-443b-bafe-490d335b1221"
      },
      "execution_count": 19,
      "outputs": [
        {
          "output_type": "execute_result",
          "data": {
            "text/plain": [
              "{'alpha': 150, 'l1_ratio': 1}"
            ]
          },
          "metadata": {},
          "execution_count": 19
        }
      ]
    },
    {
      "cell_type": "code",
      "source": [
        "param_grid = {'alpha': [120, 130, 140, 145, 150, 155, 160, 170],\n",
        "              'l1_ratio': [.995, .999, 1]}\n",
        "grid_model = GridSearchCV(model, param_grid,scoring=\"neg_root_mean_squared_error\",cv=5,verbose=2.1)\n",
        "grid_model.fit(X_train, y_train)"
      ],
      "metadata": {
        "colab": {
          "base_uri": "https://localhost:8080/"
        },
        "id": "ZVtZ3eCU3Mh3",
        "outputId": "3eda9f2e-0dc9-405a-bd7c-6038226fbb1a"
      },
      "execution_count": 20,
      "outputs": [
        {
          "output_type": "stream",
          "name": "stdout",
          "text": [
            "Fitting 5 folds for each of 24 candidates, totalling 120 fits\n",
            "[CV 1/5] END ....alpha=120, l1_ratio=0.995;, score=-28790.133 total time=   0.1s\n",
            "[CV 2/5] END ....alpha=120, l1_ratio=0.995;, score=-29791.522 total time=   0.1s\n",
            "[CV 3/5] END ....alpha=120, l1_ratio=0.995;, score=-20827.879 total time=   0.1s\n",
            "[CV 4/5] END ....alpha=120, l1_ratio=0.995;, score=-22012.524 total time=   0.1s\n",
            "[CV 5/5] END ....alpha=120, l1_ratio=0.995;, score=-26594.757 total time=   0.1s\n",
            "[CV 1/5] END ....alpha=120, l1_ratio=0.999;, score=-26432.668 total time=   0.1s\n",
            "[CV 2/5] END ....alpha=120, l1_ratio=0.999;, score=-25619.960 total time=   0.1s\n",
            "[CV 3/5] END ....alpha=120, l1_ratio=0.999;, score=-19404.215 total time=   0.1s\n",
            "[CV 4/5] END ....alpha=120, l1_ratio=0.999;, score=-20204.883 total time=   0.1s\n",
            "[CV 5/5] END ....alpha=120, l1_ratio=0.999;, score=-24182.693 total time=   0.1s\n",
            "[CV 1/5] END ........alpha=120, l1_ratio=1;, score=-25575.401 total time=   0.2s\n",
            "[CV 2/5] END ........alpha=120, l1_ratio=1;, score=-24074.827 total time=   0.2s\n",
            "[CV 3/5] END ........alpha=120, l1_ratio=1;, score=-19382.175 total time=   0.2s\n",
            "[CV 4/5] END ........alpha=120, l1_ratio=1;, score=-19827.733 total time=   0.2s\n",
            "[CV 5/5] END ........alpha=120, l1_ratio=1;, score=-23869.932 total time=   0.2s\n",
            "[CV 1/5] END ....alpha=130, l1_ratio=0.995;, score=-29008.616 total time=   0.1s\n",
            "[CV 2/5] END ....alpha=130, l1_ratio=0.995;, score=-30148.895 total time=   0.1s\n",
            "[CV 3/5] END ....alpha=130, l1_ratio=0.995;, score=-21004.076 total time=   0.1s\n",
            "[CV 4/5] END ....alpha=130, l1_ratio=0.995;, score=-22184.548 total time=   0.1s\n",
            "[CV 5/5] END ....alpha=130, l1_ratio=0.995;, score=-26826.349 total time=   0.1s\n",
            "[CV 1/5] END ....alpha=130, l1_ratio=0.999;, score=-26488.247 total time=   0.1s\n",
            "[CV 2/5] END ....alpha=130, l1_ratio=0.999;, score=-25759.681 total time=   0.1s\n",
            "[CV 3/5] END ....alpha=130, l1_ratio=0.999;, score=-19420.423 total time=   0.1s\n",
            "[CV 4/5] END ....alpha=130, l1_ratio=0.999;, score=-20245.391 total time=   0.1s\n",
            "[CV 5/5] END ....alpha=130, l1_ratio=0.999;, score=-24217.827 total time=   0.1s\n",
            "[CV 1/5] END ........alpha=130, l1_ratio=1;, score=-25589.988 total time=   0.2s\n",
            "[CV 2/5] END ........alpha=130, l1_ratio=1;, score=-24101.661 total time=   0.2s\n",
            "[CV 3/5] END ........alpha=130, l1_ratio=1;, score=-19379.501 total time=   0.2s\n",
            "[CV 4/5] END ........alpha=130, l1_ratio=1;, score=-19814.792 total time=   0.2s\n",
            "[CV 5/5] END ........alpha=130, l1_ratio=1;, score=-23845.840 total time=   0.2s\n",
            "[CV 1/5] END ....alpha=140, l1_ratio=0.995;, score=-29215.275 total time=   0.0s\n",
            "[CV 2/5] END ....alpha=140, l1_ratio=0.995;, score=-30493.462 total time=   0.1s\n",
            "[CV 3/5] END ....alpha=140, l1_ratio=0.995;, score=-21174.778 total time=   0.0s\n",
            "[CV 4/5] END ....alpha=140, l1_ratio=0.995;, score=-22353.150 total time=   0.1s\n",
            "[CV 5/5] END ....alpha=140, l1_ratio=0.995;, score=-27054.473 total time=   0.0s\n",
            "[CV 1/5] END ....alpha=140, l1_ratio=0.999;, score=-26546.964 total time=   0.1s\n",
            "[CV 2/5] END ....alpha=140, l1_ratio=0.999;, score=-25899.138 total time=   0.1s\n",
            "[CV 3/5] END ....alpha=140, l1_ratio=0.999;, score=-19439.572 total time=   0.1s\n",
            "[CV 4/5] END ....alpha=140, l1_ratio=0.999;, score=-20289.058 total time=   0.1s\n",
            "[CV 5/5] END ....alpha=140, l1_ratio=0.999;, score=-24258.067 total time=   0.1s\n",
            "[CV 1/5] END ........alpha=140, l1_ratio=1;, score=-25603.321 total time=   0.2s\n",
            "[CV 2/5] END ........alpha=140, l1_ratio=1;, score=-24130.355 total time=   0.2s\n",
            "[CV 3/5] END ........alpha=140, l1_ratio=1;, score=-19379.010 total time=   0.2s\n",
            "[CV 4/5] END ........alpha=140, l1_ratio=1;, score=-19803.611 total time=   0.2s\n",
            "[CV 5/5] END ........alpha=140, l1_ratio=1;, score=-23815.278 total time=   0.2s\n",
            "[CV 1/5] END ....alpha=145, l1_ratio=0.995;, score=-29317.489 total time=   0.0s\n",
            "[CV 2/5] END ....alpha=145, l1_ratio=0.995;, score=-30661.596 total time=   0.0s\n",
            "[CV 3/5] END ....alpha=145, l1_ratio=0.995;, score=-21258.221 total time=   0.0s\n",
            "[CV 4/5] END ....alpha=145, l1_ratio=0.995;, score=-22437.250 total time=   0.1s\n",
            "[CV 5/5] END ....alpha=145, l1_ratio=0.995;, score=-27164.431 total time=   0.0s\n",
            "[CV 1/5] END ....alpha=145, l1_ratio=0.999;, score=-26576.597 total time=   0.1s\n",
            "[CV 2/5] END ....alpha=145, l1_ratio=0.999;, score=-25969.883 total time=   0.1s\n",
            "[CV 3/5] END ....alpha=145, l1_ratio=0.999;, score=-19449.979 total time=   0.1s\n",
            "[CV 4/5] END ....alpha=145, l1_ratio=0.999;, score=-20311.664 total time=   0.1s\n",
            "[CV 5/5] END ....alpha=145, l1_ratio=0.999;, score=-24280.697 total time=   0.1s\n",
            "[CV 1/5] END ........alpha=145, l1_ratio=1;, score=-25606.775 total time=   0.2s\n",
            "[CV 2/5] END ........alpha=145, l1_ratio=1;, score=-24147.226 total time=   0.2s\n",
            "[CV 3/5] END ........alpha=145, l1_ratio=1;, score=-19380.362 total time=   0.2s\n",
            "[CV 4/5] END ........alpha=145, l1_ratio=1;, score=-19799.391 total time=   0.2s\n",
            "[CV 5/5] END ........alpha=145, l1_ratio=1;, score=-23801.000 total time=   0.2s\n",
            "[CV 1/5] END ....alpha=150, l1_ratio=0.995;, score=-29419.779 total time=   0.0s\n",
            "[CV 2/5] END ....alpha=150, l1_ratio=0.995;, score=-30828.253 total time=   0.0s\n",
            "[CV 3/5] END ....alpha=150, l1_ratio=0.995;, score=-21344.160 total time=   0.0s\n",
            "[CV 4/5] END ....alpha=150, l1_ratio=0.995;, score=-22519.985 total time=   0.0s\n",
            "[CV 5/5] END ....alpha=150, l1_ratio=0.995;, score=-27273.456 total time=   0.0s\n",
            "[CV 1/5] END ....alpha=150, l1_ratio=0.999;, score=-26605.534 total time=   0.1s\n",
            "[CV 2/5] END ....alpha=150, l1_ratio=0.999;, score=-26039.007 total time=   0.1s\n",
            "[CV 3/5] END ....alpha=150, l1_ratio=0.999;, score=-19460.641 total time=   0.1s\n",
            "[CV 4/5] END ....alpha=150, l1_ratio=0.999;, score=-20334.681 total time=   0.1s\n",
            "[CV 5/5] END ....alpha=150, l1_ratio=0.999;, score=-24303.180 total time=   0.1s\n",
            "[CV 1/5] END ........alpha=150, l1_ratio=1;, score=-25610.188 total time=   0.2s\n",
            "[CV 2/5] END ........alpha=150, l1_ratio=1;, score=-24164.162 total time=   0.2s\n",
            "[CV 3/5] END ........alpha=150, l1_ratio=1;, score=-19382.276 total time=   0.2s\n",
            "[CV 4/5] END ........alpha=150, l1_ratio=1;, score=-19797.066 total time=   0.2s\n",
            "[CV 5/5] END ........alpha=150, l1_ratio=1;, score=-23792.069 total time=   0.2s\n",
            "[CV 1/5] END ....alpha=155, l1_ratio=0.995;, score=-29520.746 total time=   0.0s\n",
            "[CV 2/5] END ....alpha=155, l1_ratio=0.995;, score=-30992.257 total time=   0.0s\n",
            "[CV 3/5] END ....alpha=155, l1_ratio=0.995;, score=-21429.513 total time=   0.0s\n",
            "[CV 4/5] END ....alpha=155, l1_ratio=0.995;, score=-22603.330 total time=   0.0s\n",
            "[CV 5/5] END ....alpha=155, l1_ratio=0.995;, score=-27382.672 total time=   0.0s\n",
            "[CV 1/5] END ....alpha=155, l1_ratio=0.999;, score=-26634.410 total time=   0.1s\n",
            "[CV 2/5] END ....alpha=155, l1_ratio=0.999;, score=-26107.785 total time=   0.1s\n",
            "[CV 3/5] END ....alpha=155, l1_ratio=0.999;, score=-19472.607 total time=   0.1s\n",
            "[CV 4/5] END ....alpha=155, l1_ratio=0.999;, score=-20358.239 total time=   0.1s\n",
            "[CV 5/5] END ....alpha=155, l1_ratio=0.999;, score=-24326.851 total time=   0.1s\n",
            "[CV 1/5] END ........alpha=155, l1_ratio=1;, score=-25614.592 total time=   0.2s\n",
            "[CV 2/5] END ........alpha=155, l1_ratio=1;, score=-24181.590 total time=   0.2s\n",
            "[CV 3/5] END ........alpha=155, l1_ratio=1;, score=-19385.242 total time=   0.2s\n",
            "[CV 4/5] END ........alpha=155, l1_ratio=1;, score=-19796.822 total time=   0.2s\n",
            "[CV 5/5] END ........alpha=155, l1_ratio=1;, score=-23782.754 total time=   0.2s\n",
            "[CV 1/5] END ....alpha=160, l1_ratio=0.995;, score=-29620.835 total time=   0.0s\n",
            "[CV 2/5] END ....alpha=160, l1_ratio=0.995;, score=-31154.650 total time=   0.0s\n",
            "[CV 3/5] END ....alpha=160, l1_ratio=0.995;, score=-21515.319 total time=   0.0s\n",
            "[CV 4/5] END ....alpha=160, l1_ratio=0.995;, score=-22689.322 total time=   0.0s\n",
            "[CV 5/5] END ....alpha=160, l1_ratio=0.995;, score=-27492.205 total time=   0.0s\n",
            "[CV 1/5] END ....alpha=160, l1_ratio=0.999;, score=-26662.449 total time=   0.1s\n",
            "[CV 2/5] END ....alpha=160, l1_ratio=0.999;, score=-26176.221 total time=   0.1s\n",
            "[CV 3/5] END ....alpha=160, l1_ratio=0.999;, score=-19485.413 total time=   0.1s\n",
            "[CV 4/5] END ....alpha=160, l1_ratio=0.999;, score=-20381.944 total time=   0.1s\n",
            "[CV 5/5] END ....alpha=160, l1_ratio=0.999;, score=-24351.356 total time=   0.1s\n",
            "[CV 1/5] END ........alpha=160, l1_ratio=1;, score=-25619.312 total time=   0.2s\n",
            "[CV 2/5] END ........alpha=160, l1_ratio=1;, score=-24200.017 total time=   0.2s\n",
            "[CV 3/5] END ........alpha=160, l1_ratio=1;, score=-19388.218 total time=   0.2s\n",
            "[CV 4/5] END ........alpha=160, l1_ratio=1;, score=-19796.617 total time=   0.2s\n",
            "[CV 5/5] END ........alpha=160, l1_ratio=1;, score=-23772.519 total time=   0.2s\n",
            "[CV 1/5] END ....alpha=170, l1_ratio=0.995;, score=-29814.788 total time=   0.0s\n",
            "[CV 2/5] END ....alpha=170, l1_ratio=0.995;, score=-31466.073 total time=   0.0s\n",
            "[CV 3/5] END ....alpha=170, l1_ratio=0.995;, score=-21687.759 total time=   0.0s\n",
            "[CV 4/5] END ....alpha=170, l1_ratio=0.995;, score=-22859.561 total time=   0.0s\n",
            "[CV 5/5] END ....alpha=170, l1_ratio=0.995;, score=-27711.064 total time=   0.1s\n",
            "[CV 1/5] END ....alpha=170, l1_ratio=0.999;, score=-26719.186 total time=   0.1s\n",
            "[CV 2/5] END ....alpha=170, l1_ratio=0.999;, score=-26312.605 total time=   0.1s\n",
            "[CV 3/5] END ....alpha=170, l1_ratio=0.999;, score=-19512.777 total time=   0.1s\n",
            "[CV 4/5] END ....alpha=170, l1_ratio=0.999;, score=-20428.739 total time=   0.1s\n",
            "[CV 5/5] END ....alpha=170, l1_ratio=0.999;, score=-24401.346 total time=   0.1s\n",
            "[CV 1/5] END ........alpha=170, l1_ratio=1;, score=-25628.970 total time=   0.2s\n",
            "[CV 2/5] END ........alpha=170, l1_ratio=1;, score=-24227.809 total time=   0.2s\n",
            "[CV 3/5] END ........alpha=170, l1_ratio=1;, score=-19393.519 total time=   0.2s\n",
            "[CV 4/5] END ........alpha=170, l1_ratio=1;, score=-19798.829 total time=   0.2s\n",
            "[CV 5/5] END ........alpha=170, l1_ratio=1;, score=-23754.196 total time=   0.2s\n"
          ]
        },
        {
          "output_type": "execute_result",
          "data": {
            "text/plain": [
              "GridSearchCV(cv=5, estimator=ElasticNet(max_iter=10000),\n",
              "             param_grid={'alpha': [120, 130, 140, 145, 150, 155, 160, 170],\n",
              "                         'l1_ratio': [0.995, 0.999, 1]},\n",
              "             scoring='neg_root_mean_squared_error', verbose=2.1)"
            ]
          },
          "metadata": {},
          "execution_count": 20
        }
      ]
    },
    {
      "cell_type": "code",
      "source": [
        "grid_model.best_params_"
      ],
      "metadata": {
        "colab": {
          "base_uri": "https://localhost:8080/"
        },
        "id": "sRxQFZ0f3Pj4",
        "outputId": "06ca05dd-becf-4733-baf0-b4978dc96c17"
      },
      "execution_count": 21,
      "outputs": [
        {
          "output_type": "execute_result",
          "data": {
            "text/plain": [
              "{'alpha': 120, 'l1_ratio': 1}"
            ]
          },
          "metadata": {},
          "execution_count": 21
        }
      ]
    },
    {
      "cell_type": "code",
      "source": [
        "param_grid = {'alpha': [110, 115, 120, 125, 130],\n",
        "              'l1_ratio': [1]}\n",
        "grid_model = GridSearchCV(model, param_grid,scoring=\"neg_root_mean_squared_error\",cv=5,verbose=2.1)\n",
        "grid_model.fit(X_train, y_train)"
      ],
      "metadata": {
        "colab": {
          "base_uri": "https://localhost:8080/"
        },
        "id": "eEwfgd4m4Tcu",
        "outputId": "075ea0db-6433-480e-a2fd-f4d026e9476b"
      },
      "execution_count": 22,
      "outputs": [
        {
          "output_type": "stream",
          "name": "stdout",
          "text": [
            "Fitting 5 folds for each of 5 candidates, totalling 25 fits\n",
            "[CV 1/5] END ........alpha=110, l1_ratio=1;, score=-25564.551 total time=   0.2s\n",
            "[CV 2/5] END ........alpha=110, l1_ratio=1;, score=-24050.609 total time=   0.2s\n",
            "[CV 3/5] END ........alpha=110, l1_ratio=1;, score=-19385.973 total time=   0.3s\n",
            "[CV 4/5] END ........alpha=110, l1_ratio=1;, score=-19846.248 total time=   0.2s\n",
            "[CV 5/5] END ........alpha=110, l1_ratio=1;, score=-23896.880 total time=   0.2s\n",
            "[CV 1/5] END ........alpha=115, l1_ratio=1;, score=-25570.220 total time=   0.2s\n",
            "[CV 2/5] END ........alpha=115, l1_ratio=1;, score=-24061.711 total time=   0.2s\n",
            "[CV 3/5] END ........alpha=115, l1_ratio=1;, score=-19383.511 total time=   0.3s\n",
            "[CV 4/5] END ........alpha=115, l1_ratio=1;, score=-19834.911 total time=   0.2s\n",
            "[CV 5/5] END ........alpha=115, l1_ratio=1;, score=-23882.996 total time=   0.3s\n",
            "[CV 1/5] END ........alpha=120, l1_ratio=1;, score=-25575.401 total time=   0.2s\n",
            "[CV 2/5] END ........alpha=120, l1_ratio=1;, score=-24074.827 total time=   0.2s\n",
            "[CV 3/5] END ........alpha=120, l1_ratio=1;, score=-19382.175 total time=   0.2s\n",
            "[CV 4/5] END ........alpha=120, l1_ratio=1;, score=-19827.733 total time=   0.2s\n",
            "[CV 5/5] END ........alpha=120, l1_ratio=1;, score=-23869.932 total time=   0.2s\n",
            "[CV 1/5] END ........alpha=125, l1_ratio=1;, score=-25582.419 total time=   0.2s\n",
            "[CV 2/5] END ........alpha=125, l1_ratio=1;, score=-24088.072 total time=   0.2s\n",
            "[CV 3/5] END ........alpha=125, l1_ratio=1;, score=-19381.199 total time=   0.2s\n",
            "[CV 4/5] END ........alpha=125, l1_ratio=1;, score=-19821.270 total time=   0.2s\n",
            "[CV 5/5] END ........alpha=125, l1_ratio=1;, score=-23858.052 total time=   0.2s\n",
            "[CV 1/5] END ........alpha=130, l1_ratio=1;, score=-25589.988 total time=   0.2s\n",
            "[CV 2/5] END ........alpha=130, l1_ratio=1;, score=-24101.661 total time=   0.2s\n",
            "[CV 3/5] END ........alpha=130, l1_ratio=1;, score=-19379.501 total time=   0.2s\n",
            "[CV 4/5] END ........alpha=130, l1_ratio=1;, score=-19814.792 total time=   0.2s\n",
            "[CV 5/5] END ........alpha=130, l1_ratio=1;, score=-23845.840 total time=   0.2s\n"
          ]
        },
        {
          "output_type": "execute_result",
          "data": {
            "text/plain": [
              "GridSearchCV(cv=5, estimator=ElasticNet(max_iter=10000),\n",
              "             param_grid={'alpha': [110, 115, 120, 125, 130], 'l1_ratio': [1]},\n",
              "             scoring='neg_root_mean_squared_error', verbose=2.1)"
            ]
          },
          "metadata": {},
          "execution_count": 22
        }
      ]
    },
    {
      "cell_type": "code",
      "source": [
        "grid_model.best_params_"
      ],
      "metadata": {
        "colab": {
          "base_uri": "https://localhost:8080/"
        },
        "id": "a33KV_Ay4lBF",
        "outputId": "c7b84486-4aeb-4798-e294-bc5f37552fd9"
      },
      "execution_count": 23,
      "outputs": [
        {
          "output_type": "execute_result",
          "data": {
            "text/plain": [
              "{'alpha': 120, 'l1_ratio': 1}"
            ]
          },
          "metadata": {},
          "execution_count": 23
        }
      ]
    },
    {
      "cell_type": "code",
      "source": [
        "param_grid = {'alpha': [118, 119, 120, 121, 122],\n",
        "              'l1_ratio': [1]}\n",
        "grid_model = GridSearchCV(model, param_grid,scoring=\"neg_root_mean_squared_error\",cv=5,verbose=2.1)\n",
        "grid_model.fit(X_train, y_train)"
      ],
      "metadata": {
        "colab": {
          "base_uri": "https://localhost:8080/"
        },
        "id": "vD9iLbjZ4lcX",
        "outputId": "1760bdfa-0195-4191-bf1d-e431d08ec3cc"
      },
      "execution_count": 24,
      "outputs": [
        {
          "output_type": "stream",
          "name": "stdout",
          "text": [
            "Fitting 5 folds for each of 5 candidates, totalling 25 fits\n",
            "[CV 1/5] END ........alpha=118, l1_ratio=1;, score=-25572.983 total time=   0.2s\n",
            "[CV 2/5] END ........alpha=118, l1_ratio=1;, score=-24069.409 total time=   0.2s\n",
            "[CV 3/5] END ........alpha=118, l1_ratio=1;, score=-19382.587 total time=   0.2s\n",
            "[CV 4/5] END ........alpha=118, l1_ratio=1;, score=-19830.423 total time=   0.2s\n",
            "[CV 5/5] END ........alpha=118, l1_ratio=1;, score=-23874.954 total time=   0.2s\n",
            "[CV 1/5] END ........alpha=119, l1_ratio=1;, score=-25574.172 total time=   0.2s\n",
            "[CV 2/5] END ........alpha=119, l1_ratio=1;, score=-24072.120 total time=   0.2s\n",
            "[CV 3/5] END ........alpha=119, l1_ratio=1;, score=-19382.367 total time=   0.2s\n",
            "[CV 4/5] END ........alpha=119, l1_ratio=1;, score=-19828.950 total time=   0.2s\n",
            "[CV 5/5] END ........alpha=119, l1_ratio=1;, score=-23872.432 total time=   0.2s\n",
            "[CV 1/5] END ........alpha=120, l1_ratio=1;, score=-25575.401 total time=   0.2s\n",
            "[CV 2/5] END ........alpha=120, l1_ratio=1;, score=-24074.827 total time=   0.2s\n",
            "[CV 3/5] END ........alpha=120, l1_ratio=1;, score=-19382.175 total time=   0.2s\n",
            "[CV 4/5] END ........alpha=120, l1_ratio=1;, score=-19827.733 total time=   0.2s\n",
            "[CV 5/5] END ........alpha=120, l1_ratio=1;, score=-23869.932 total time=   0.2s\n",
            "[CV 1/5] END ........alpha=121, l1_ratio=1;, score=-25576.745 total time=   0.2s\n",
            "[CV 2/5] END ........alpha=121, l1_ratio=1;, score=-24077.575 total time=   0.2s\n",
            "[CV 3/5] END ........alpha=121, l1_ratio=1;, score=-19381.959 total time=   0.2s\n",
            "[CV 4/5] END ........alpha=121, l1_ratio=1;, score=-19826.635 total time=   0.2s\n",
            "[CV 5/5] END ........alpha=121, l1_ratio=1;, score=-23867.455 total time=   0.2s\n",
            "[CV 1/5] END ........alpha=122, l1_ratio=1;, score=-25578.177 total time=   0.2s\n",
            "[CV 2/5] END ........alpha=122, l1_ratio=1;, score=-24080.251 total time=   0.2s\n",
            "[CV 3/5] END ........alpha=122, l1_ratio=1;, score=-19381.826 total time=   0.2s\n",
            "[CV 4/5] END ........alpha=122, l1_ratio=1;, score=-19825.475 total time=   0.2s\n",
            "[CV 5/5] END ........alpha=122, l1_ratio=1;, score=-23865.053 total time=   0.2s\n"
          ]
        },
        {
          "output_type": "execute_result",
          "data": {
            "text/plain": [
              "GridSearchCV(cv=5, estimator=ElasticNet(max_iter=10000),\n",
              "             param_grid={'alpha': [118, 119, 120, 121, 122], 'l1_ratio': [1]},\n",
              "             scoring='neg_root_mean_squared_error', verbose=2.1)"
            ]
          },
          "metadata": {},
          "execution_count": 24
        }
      ]
    },
    {
      "cell_type": "code",
      "source": [
        "grid_model.best_params_"
      ],
      "metadata": {
        "colab": {
          "base_uri": "https://localhost:8080/"
        },
        "id": "Qrpm8Dcf4y5o",
        "outputId": "d3f9f44f-0107-4e76-ad0e-c52f01f82991"
      },
      "execution_count": 25,
      "outputs": [
        {
          "output_type": "execute_result",
          "data": {
            "text/plain": [
              "{'alpha': 119, 'l1_ratio': 1}"
            ]
          },
          "metadata": {},
          "execution_count": 25
        }
      ]
    },
    {
      "cell_type": "markdown",
      "metadata": {
        "id": "jGIBn37HDLZf"
      },
      "source": [
        "### Evaluation of the model"
      ]
    },
    {
      "cell_type": "code",
      "execution_count": 26,
      "metadata": {
        "id": "d98_9o7ZDLZf"
      },
      "outputs": [],
      "source": [
        "y_pred = grid_model.predict(X_test)"
      ]
    },
    {
      "cell_type": "code",
      "source": [
        "from sklearn.metrics import mean_absolute_error, mean_squared_error"
      ],
      "metadata": {
        "id": "B5cEtjUe5Eq5"
      },
      "execution_count": 27,
      "outputs": []
    },
    {
      "cell_type": "code",
      "execution_count": 28,
      "metadata": {
        "id": "CgYrmj-2DLZf",
        "colab": {
          "base_uri": "https://localhost:8080/"
        },
        "outputId": "73120672-d934-46ac-cdd4-51777c420517"
      },
      "outputs": [
        {
          "output_type": "execute_result",
          "data": {
            "text/plain": [
              "14186.58198761881"
            ]
          },
          "metadata": {},
          "execution_count": 28
        }
      ],
      "source": [
        "mean_absolute_error(y_test, y_pred)"
      ]
    },
    {
      "cell_type": "code",
      "execution_count": 29,
      "metadata": {
        "id": "rG58bfV6DLZf",
        "outputId": "7118a386-76e1-44a5-e249-e6381fced41b",
        "colab": {
          "base_uri": "https://localhost:8080/"
        }
      },
      "outputs": [
        {
          "output_type": "execute_result",
          "data": {
            "text/plain": [
              "20557.786566160234"
            ]
          },
          "metadata": {},
          "execution_count": 29
        }
      ],
      "source": [
        "np.sqrt(mean_squared_error(y_test, y_pred))"
      ]
    }
  ],
  "metadata": {
    "kernelspec": {
      "display_name": "Python 3",
      "language": "python",
      "name": "python3"
    },
    "language_info": {
      "codemirror_mode": {
        "name": "ipython",
        "version": 3
      },
      "file_extension": ".py",
      "mimetype": "text/x-python",
      "name": "python",
      "nbconvert_exporter": "python",
      "pygments_lexer": "ipython3",
      "version": "3.7.6"
    },
    "colab": {
      "provenance": [],
      "collapsed_sections": [],
      "include_colab_link": true
    }
  },
  "nbformat": 4,
  "nbformat_minor": 0
}
